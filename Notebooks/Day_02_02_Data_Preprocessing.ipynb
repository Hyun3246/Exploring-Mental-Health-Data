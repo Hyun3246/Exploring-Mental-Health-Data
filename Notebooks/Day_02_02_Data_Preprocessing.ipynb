{
 "cells": [
  {
   "cell_type": "code",
   "execution_count": 1,
   "metadata": {
    "id": "PdWQHAr3T2GH"
   },
   "outputs": [],
   "source": [
    "import numpy as np\n",
    "import pandas as pd\n",
    "import matplotlib.pyplot as plt"
   ]
  },
  {
   "cell_type": "code",
   "execution_count": 2,
   "metadata": {
    "id": "FGg0zoU2UFgW"
   },
   "outputs": [],
   "source": [
    "df = pd.read_csv('/content/sample_data/train_non_null_less_values.csv')"
   ]
  },
  {
   "cell_type": "code",
   "execution_count": 3,
   "metadata": {
    "id": "1VIfTim9UKSY"
   },
   "outputs": [],
   "source": [
    "df1 = df.copy()"
   ]
  },
  {
   "cell_type": "code",
   "execution_count": 4,
   "metadata": {
    "colab": {
     "base_uri": "https://localhost:8080/"
    },
    "id": "3SIw7oWsULnj",
    "outputId": "89a3ab58-1f2d-443b-a1bc-15aeba86ede6"
   },
   "outputs": [
    {
     "name": "stdout",
     "output_type": "stream",
     "text": [
      "<class 'pandas.core.frame.DataFrame'>\n",
      "RangeIndex: 140700 entries, 0 to 140699\n",
      "Data columns (total 15 columns):\n",
      " #   Column                                 Non-Null Count   Dtype  \n",
      "---  ------                                 --------------   -----  \n",
      " 0   Gender                                 140700 non-null  object \n",
      " 1   Age                                    140700 non-null  float64\n",
      " 2   Working Professional or Student        140700 non-null  object \n",
      " 3   Academic Pressure                      140700 non-null  float64\n",
      " 4   Work Pressure                          140700 non-null  float64\n",
      " 5   CGPA                                   140700 non-null  float64\n",
      " 6   Study Satisfaction                     140700 non-null  float64\n",
      " 7   Job Satisfaction                       140700 non-null  float64\n",
      " 8   Sleep Duration                         140700 non-null  object \n",
      " 9   Dietary Habits                         140700 non-null  object \n",
      " 10  Have you ever had suicidal thoughts ?  140700 non-null  object \n",
      " 11  Work/Study Hours                       140700 non-null  float64\n",
      " 12  Financial Stress                       140700 non-null  float64\n",
      " 13  Family History of Mental Illness       140700 non-null  object \n",
      " 14  Depression                             140700 non-null  int64  \n",
      "dtypes: float64(8), int64(1), object(6)\n",
      "memory usage: 16.1+ MB\n"
     ]
    }
   ],
   "source": [
    "df1.info()"
   ]
  },
  {
   "cell_type": "code",
   "execution_count": 5,
   "metadata": {
    "id": "wHt_7bvMUN3s"
   },
   "outputs": [],
   "source": [
    "# One-Hot Encoding\n",
    "df1 = pd.get_dummies(df1, dtype='int')"
   ]
  },
  {
   "cell_type": "code",
   "execution_count": 6,
   "metadata": {
    "colab": {
     "base_uri": "https://localhost:8080/"
    },
    "id": "Om3albDvUlbJ",
    "outputId": "b04ed75d-5378-4ad8-ba3f-48eaea4d7b66"
   },
   "outputs": [
    {
     "name": "stdout",
     "output_type": "stream",
     "text": [
      "<class 'pandas.core.frame.DataFrame'>\n",
      "RangeIndex: 140700 entries, 0 to 140699\n",
      "Data columns (total 25 columns):\n",
      " #   Column                                                Non-Null Count   Dtype  \n",
      "---  ------                                                --------------   -----  \n",
      " 0   Age                                                   140700 non-null  float64\n",
      " 1   Academic Pressure                                     140700 non-null  float64\n",
      " 2   Work Pressure                                         140700 non-null  float64\n",
      " 3   CGPA                                                  140700 non-null  float64\n",
      " 4   Study Satisfaction                                    140700 non-null  float64\n",
      " 5   Job Satisfaction                                      140700 non-null  float64\n",
      " 6   Work/Study Hours                                      140700 non-null  float64\n",
      " 7   Financial Stress                                      140700 non-null  float64\n",
      " 8   Depression                                            140700 non-null  int64  \n",
      " 9   Gender_Female                                         140700 non-null  int64  \n",
      " 10  Gender_Male                                           140700 non-null  int64  \n",
      " 11  Working Professional or Student_Student               140700 non-null  int64  \n",
      " 12  Working Professional or Student_Working Professional  140700 non-null  int64  \n",
      " 13  Sleep Duration_3-4 hours                              140700 non-null  int64  \n",
      " 14  Sleep Duration_5-6 hours                              140700 non-null  int64  \n",
      " 15  Sleep Duration_7-8 hours                              140700 non-null  int64  \n",
      " 16  Sleep Duration_Less than 5 hours                      140700 non-null  int64  \n",
      " 17  Sleep Duration_More than 8 hours                      140700 non-null  int64  \n",
      " 18  Dietary Habits_Healthy                                140700 non-null  int64  \n",
      " 19  Dietary Habits_Moderate                               140700 non-null  int64  \n",
      " 20  Dietary Habits_Unhealthy                              140700 non-null  int64  \n",
      " 21  Have you ever had suicidal thoughts ?_No              140700 non-null  int64  \n",
      " 22  Have you ever had suicidal thoughts ?_Yes             140700 non-null  int64  \n",
      " 23  Family History of Mental Illness_No                   140700 non-null  int64  \n",
      " 24  Family History of Mental Illness_Yes                  140700 non-null  int64  \n",
      "dtypes: float64(8), int64(17)\n",
      "memory usage: 26.8 MB\n"
     ]
    }
   ],
   "source": [
    "df1.info()"
   ]
  },
  {
   "cell_type": "code",
   "execution_count": 7,
   "metadata": {
    "id": "R9YGXw6sWiY0"
   },
   "outputs": [],
   "source": [
    "df1.to_csv(\"final_train.csv\", index = False)"
   ]
  },
  {
   "cell_type": "code",
   "execution_count": 8,
   "metadata": {
    "id": "UPO70FLWUmlL"
   },
   "outputs": [],
   "source": [
    "# apply same process to test set\n",
    "df_test = pd.read_csv('/content/sample_data/test.csv')"
   ]
  },
  {
   "cell_type": "code",
   "execution_count": 9,
   "metadata": {
    "id": "GaP7F4QcbEHM"
   },
   "outputs": [],
   "source": [
    "df_test = df_test.drop(columns=['id', 'Name', 'City', 'Profession', 'Degree'])"
   ]
  },
  {
   "cell_type": "code",
   "execution_count": 10,
   "metadata": {
    "id": "G1kEHhxAbI-v"
   },
   "outputs": [],
   "source": [
    "from sklearn.impute import KNNImputer\n",
    "imputer = KNNImputer(n_neighbors=5)\n",
    "df_test[['Academic Pressure', 'CGPA', 'Study Satisfaction']] = imputer.fit_transform(df_test[['Academic Pressure', 'CGPA', 'Study Satisfaction']])"
   ]
  },
  {
   "cell_type": "code",
   "execution_count": 11,
   "metadata": {
    "id": "UE1l20PhbOoo"
   },
   "outputs": [],
   "source": [
    "for col in ['Work Pressure', 'Job Satisfaction', 'Dietary Habits', 'Financial Stress']:\n",
    "  df_test[col] = df_test[col].fillna(df_test[col].mode()[0])"
   ]
  },
  {
   "cell_type": "code",
   "execution_count": 12,
   "metadata": {
    "id": "4tW24PjobVhW"
   },
   "outputs": [],
   "source": [
    "sleep_duration_values = df_test['Sleep Duration'].value_counts()\n",
    "df_test['Sleep Duration'] = df_test['Sleep Duration'].apply(lambda x: x.replace(x, 'Less than 5 hours') if sleep_duration_values[x] < 10 else x)"
   ]
  },
  {
   "cell_type": "code",
   "execution_count": 13,
   "metadata": {
    "id": "rjcfPazvbfkz"
   },
   "outputs": [],
   "source": [
    "dietary_habits_values = df_test['Dietary Habits'].value_counts()\n",
    "df_test['Dietary Habits'] = df_test['Dietary Habits'].apply(lambda x: x.replace(x, 'Moderate') if dietary_habits_values[x] < 10 else x)"
   ]
  },
  {
   "cell_type": "code",
   "execution_count": 14,
   "metadata": {
    "id": "ZR-LfsH0bmMN"
   },
   "outputs": [],
   "source": [
    "df_test = pd.get_dummies(df_test, dtype='int')"
   ]
  },
  {
   "cell_type": "code",
   "execution_count": 15,
   "metadata": {
    "colab": {
     "base_uri": "https://localhost:8080/"
    },
    "id": "4Sh70Mt2c0fE",
    "outputId": "0a32616a-33f6-410b-8d12-6df0f39f6fd8"
   },
   "outputs": [
    {
     "name": "stdout",
     "output_type": "stream",
     "text": [
      "<class 'pandas.core.frame.DataFrame'>\n",
      "RangeIndex: 93800 entries, 0 to 93799\n",
      "Data columns (total 23 columns):\n",
      " #   Column                                                Non-Null Count  Dtype  \n",
      "---  ------                                                --------------  -----  \n",
      " 0   Age                                                   93800 non-null  float64\n",
      " 1   Academic Pressure                                     93800 non-null  float64\n",
      " 2   Work Pressure                                         93800 non-null  float64\n",
      " 3   CGPA                                                  93800 non-null  float64\n",
      " 4   Study Satisfaction                                    93800 non-null  float64\n",
      " 5   Job Satisfaction                                      93800 non-null  float64\n",
      " 6   Work/Study Hours                                      93800 non-null  float64\n",
      " 7   Financial Stress                                      93800 non-null  float64\n",
      " 8   Gender_Female                                         93800 non-null  int64  \n",
      " 9   Gender_Male                                           93800 non-null  int64  \n",
      " 10  Working Professional or Student_Student               93800 non-null  int64  \n",
      " 11  Working Professional or Student_Working Professional  93800 non-null  int64  \n",
      " 12  Sleep Duration_5-6 hours                              93800 non-null  int64  \n",
      " 13  Sleep Duration_7-8 hours                              93800 non-null  int64  \n",
      " 14  Sleep Duration_Less than 5 hours                      93800 non-null  int64  \n",
      " 15  Sleep Duration_More than 8 hours                      93800 non-null  int64  \n",
      " 16  Dietary Habits_Healthy                                93800 non-null  int64  \n",
      " 17  Dietary Habits_Moderate                               93800 non-null  int64  \n",
      " 18  Dietary Habits_Unhealthy                              93800 non-null  int64  \n",
      " 19  Have you ever had suicidal thoughts ?_No              93800 non-null  int64  \n",
      " 20  Have you ever had suicidal thoughts ?_Yes             93800 non-null  int64  \n",
      " 21  Family History of Mental Illness_No                   93800 non-null  int64  \n",
      " 22  Family History of Mental Illness_Yes                  93800 non-null  int64  \n",
      "dtypes: float64(8), int64(15)\n",
      "memory usage: 16.5 MB\n"
     ]
    }
   ],
   "source": [
    "df_test.info()"
   ]
  },
  {
   "cell_type": "code",
   "execution_count": 16,
   "metadata": {
    "id": "MOoABJPXc1au"
   },
   "outputs": [],
   "source": [
    "df_test.to_csv(\"final_test.csv\", index = False)"
   ]
  },
  {
   "cell_type": "code",
   "execution_count": 22,
   "metadata": {
    "id": "mNAyYqKIkFKA"
   },
   "outputs": [],
   "source": [
    "df_test = pd.read_csv('/content/sample_data/test.csv')\n",
    "df_test = pipeline.fit_transform(df_test)"
   ]
  }
 ],
 "metadata": {
  "colab": {
   "provenance": []
  },
  "kernelspec": {
   "display_name": "Python 3",
   "name": "python3"
  },
  "language_info": {
   "name": "python"
  }
 },
 "nbformat": 4,
 "nbformat_minor": 0
}
