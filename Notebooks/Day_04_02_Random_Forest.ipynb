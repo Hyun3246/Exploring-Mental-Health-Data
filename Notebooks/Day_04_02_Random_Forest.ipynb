{
 "cells": [
  {
   "cell_type": "code",
   "execution_count": 5,
   "metadata": {
    "id": "iEjscAMbe6ST"
   },
   "outputs": [],
   "source": [
    "import pandas as pd\n",
    "df = pd.read_csv('/content/sample_data/final_train.csv')\n",
    "\n",
    "from sklearn.model_selection import train_test_split\n",
    "\n",
    "train_set, test_set_from_train = train_test_split(df, test_size=0.2, random_state=42)\n",
    "\n",
    "# split target and features\n",
    "X_train = train_set.drop('Depression', axis=1)\n",
    "y_train = train_set['Depression'].copy()"
   ]
  },
  {
   "cell_type": "code",
   "execution_count": 37,
   "metadata": {
    "id": "xfIzba-Ofoyp"
   },
   "outputs": [],
   "source": [
    "from sklearn.ensemble import RandomForestClassifier\n",
    "\n",
    "rnd_clf = RandomForestClassifier(n_estimators=1000, max_depth=14, n_jobs=-1, random_state=42)\n",
    "rnd_clf.fit(X_train, y_train)\n",
    "y_pred = rnd_clf.predict(X_train)"
   ]
  },
  {
   "cell_type": "code",
   "execution_count": null,
   "metadata": {
    "colab": {
     "base_uri": "https://localhost:8080/"
    },
    "id": "u2DAnMpfgI5T",
    "outputId": "ca206ada-1451-4f8b-da59-bd5be905d64b"
   },
   "outputs": [
    {
     "data": {
      "text/plain": [
       "0.9695717839374556"
      ]
     },
     "execution_count": 38,
     "metadata": {},
     "output_type": "execute_result"
    }
   ],
   "source": [
    "# accuracy score\n",
    "from sklearn.metrics import accuracy_score\n",
    "\n",
    "accuracy_score(y_train, y_pred)"
   ]
  },
  {
   "cell_type": "code",
   "execution_count": 8,
   "metadata": {
    "id": "kgBJF0TogQnb"
   },
   "outputs": [],
   "source": [
    "# split target and features\n",
    "X_test = test_set_from_train.drop('Depression', axis=1)\n",
    "y_test = test_set_from_train['Depression'].copy()"
   ]
  },
  {
   "cell_type": "code",
   "execution_count": 39,
   "metadata": {
    "colab": {
     "base_uri": "https://localhost:8080/"
    },
    "id": "cGqucigbgbOC",
    "outputId": "cf571560-ac68-4e2b-dc66-672fd0cc4b98"
   },
   "outputs": [
    {
     "data": {
      "text/plain": [
       "0.937455579246624"
      ]
     },
     "execution_count": 39,
     "metadata": {},
     "output_type": "execute_result"
    }
   ],
   "source": [
    "y_pred = rnd_clf.predict(X_test)\n",
    "accuracy_score(y_test, y_pred)"
   ]
  },
  {
   "cell_type": "code",
   "execution_count": 40,
   "metadata": {
    "id": "nXvBVTftmAsq"
   },
   "outputs": [],
   "source": [
    "# save final prediction\n",
    "test_set = pd.read_csv('/content/sample_data/final_test.csv')\n",
    "y_pred = rnd_clf.predict(test_set)\n",
    "original_test_set = pd.read_csv('/content/sample_data/test.csv')\n",
    "id = original_test_set['id']\n",
    "final_prediction = pd.DataFrame({'id': id, 'Depression': y_pred})\n",
    "final_prediction.to_csv('random_forest_clf_final_prediction.csv', index=False)"
   ]
  }
 ],
 "metadata": {
  "colab": {
   "provenance": []
  },
  "kernelspec": {
   "display_name": "Python 3",
   "name": "python3"
  },
  "language_info": {
   "name": "python"
  }
 },
 "nbformat": 4,
 "nbformat_minor": 0
}
