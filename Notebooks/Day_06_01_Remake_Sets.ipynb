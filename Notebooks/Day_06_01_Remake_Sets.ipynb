{
  "nbformat": 4,
  "nbformat_minor": 0,
  "metadata": {
    "colab": {
      "provenance": []
    },
    "kernelspec": {
      "name": "python3",
      "display_name": "Python 3"
    },
    "language_info": {
      "name": "python"
    }
  },
  "cells": [
    {
      "cell_type": "code",
      "execution_count": null,
      "metadata": {
        "id": "qG247h2oh3_p"
      },
      "outputs": [],
      "source": [
        "import pandas as pd"
      ]
    },
    {
      "cell_type": "code",
      "source": [
        "train = pd.read_csv('/content/sample_data/train.csv')\n",
        "test = pd.read_csv('/content/sample_data/test.csv')"
      ],
      "metadata": {
        "id": "SETMlytyiDFK"
      },
      "execution_count": null,
      "outputs": []
    },
    {
      "cell_type": "code",
      "source": [
        "# concatenate train and test\n",
        "df = pd.concat([train, test], ignore_index=True)"
      ],
      "metadata": {
        "id": "qvcytWDdmyV4"
      },
      "execution_count": null,
      "outputs": []
    },
    {
      "cell_type": "code",
      "source": [
        "df.info()"
      ],
      "metadata": {
        "colab": {
          "base_uri": "https://localhost:8080/"
        },
        "id": "S27Vk1SRm10x",
        "outputId": "7ccd1532-1ff7-47b3-a56d-b401abb42456"
      },
      "execution_count": null,
      "outputs": [
        {
          "output_type": "stream",
          "name": "stdout",
          "text": [
            "<class 'pandas.core.frame.DataFrame'>\n",
            "RangeIndex: 234500 entries, 0 to 234499\n",
            "Data columns (total 20 columns):\n",
            " #   Column                                 Non-Null Count   Dtype  \n",
            "---  ------                                 --------------   -----  \n",
            " 0   id                                     234500 non-null  int64  \n",
            " 1   Name                                   234500 non-null  object \n",
            " 2   Gender                                 234500 non-null  object \n",
            " 3   Age                                    234500 non-null  float64\n",
            " 4   City                                   234500 non-null  object \n",
            " 5   Working Professional or Student        234500 non-null  object \n",
            " 6   Profession                             173238 non-null  object \n",
            " 7   Academic Pressure                      46664 non-null   float64\n",
            " 8   Work Pressure                          187804 non-null  float64\n",
            " 9   CGPA                                   46664 non-null   float64\n",
            " 10  Study Satisfaction                     46664 non-null   float64\n",
            " 11  Job Satisfaction                       187816 non-null  float64\n",
            " 12  Sleep Duration                         234500 non-null  object \n",
            " 13  Dietary Habits                         234491 non-null  object \n",
            " 14  Degree                                 234496 non-null  object \n",
            " 15  Have you ever had suicidal thoughts ?  234500 non-null  object \n",
            " 16  Work/Study Hours                       234500 non-null  float64\n",
            " 17  Financial Stress                       234496 non-null  float64\n",
            " 18  Family History of Mental Illness       234500 non-null  object \n",
            " 19  Depression                             140700 non-null  float64\n",
            "dtypes: float64(9), int64(1), object(10)\n",
            "memory usage: 35.8+ MB\n"
          ]
        }
      ]
    },
    {
      "cell_type": "code",
      "source": [
        "for i in ['Name', 'City']:\n",
        "    df_value_counts = df[i].value_counts()\n",
        "    df[i] = df[i].apply(lambda x: x.replace(x, 'Others') if df_value_counts[x] < 10 else x)"
      ],
      "metadata": {
        "id": "j5GTFYVPiVzw"
      },
      "execution_count": null,
      "outputs": []
    },
    {
      "cell_type": "code",
      "source": [
        "for i in ['Academic Pressure', 'Work Pressure', 'Job Satisfaction', 'Study Satisfaction']:\n",
        "    df[i] = df[i].fillna(\"\")"
      ],
      "metadata": {
        "id": "t9ApKwIr1B_j"
      },
      "execution_count": null,
      "outputs": []
    },
    {
      "cell_type": "code",
      "source": [
        "df['Pressure'] = df['Academic Pressure'].map(str) + df['Work Pressure'].map(str)\n",
        "df['Satisfaction'] = df['Job Satisfaction'].map(str) + df['Study Satisfaction'].map(str)"
      ],
      "metadata": {
        "id": "KRLWCloM1tWZ"
      },
      "execution_count": null,
      "outputs": []
    },
    {
      "cell_type": "code",
      "source": [
        "for i in ['Pressure', 'Satisfaction']:\n",
        "    mode = df[i].mode()[0]\n",
        "    df[i] = df[i].apply(lambda x: x.replace(x, mode) if x == '' else x)"
      ],
      "metadata": {
        "id": "P9eUpIilFQgW"
      },
      "execution_count": null,
      "outputs": []
    },
    {
      "cell_type": "code",
      "source": [
        "df['Satisfaction'].value_counts()"
      ],
      "metadata": {
        "colab": {
          "base_uri": "https://localhost:8080/",
          "height": 366
        },
        "id": "_DvkPF5LGCXH",
        "outputId": "669aac92-f146-4811-b7d7-12c609e5ef6d"
      },
      "execution_count": null,
      "outputs": [
        {
          "output_type": "execute_result",
          "data": {
            "text/plain": [
              "Satisfaction\n",
              "2.0       51454\n",
              "1.0       46372\n",
              "3.0       46116\n",
              "4.0       45426\n",
              "5.0       45129\n",
              "3.03.0        1\n",
              "2.05.0        1\n",
              "1.05.0        1\n",
              "Name: count, dtype: int64"
            ],
            "text/html": [
              "<div>\n",
              "<style scoped>\n",
              "    .dataframe tbody tr th:only-of-type {\n",
              "        vertical-align: middle;\n",
              "    }\n",
              "\n",
              "    .dataframe tbody tr th {\n",
              "        vertical-align: top;\n",
              "    }\n",
              "\n",
              "    .dataframe thead th {\n",
              "        text-align: right;\n",
              "    }\n",
              "</style>\n",
              "<table border=\"1\" class=\"dataframe\">\n",
              "  <thead>\n",
              "    <tr style=\"text-align: right;\">\n",
              "      <th></th>\n",
              "      <th>count</th>\n",
              "    </tr>\n",
              "    <tr>\n",
              "      <th>Satisfaction</th>\n",
              "      <th></th>\n",
              "    </tr>\n",
              "  </thead>\n",
              "  <tbody>\n",
              "    <tr>\n",
              "      <th>2.0</th>\n",
              "      <td>51454</td>\n",
              "    </tr>\n",
              "    <tr>\n",
              "      <th>1.0</th>\n",
              "      <td>46372</td>\n",
              "    </tr>\n",
              "    <tr>\n",
              "      <th>3.0</th>\n",
              "      <td>46116</td>\n",
              "    </tr>\n",
              "    <tr>\n",
              "      <th>4.0</th>\n",
              "      <td>45426</td>\n",
              "    </tr>\n",
              "    <tr>\n",
              "      <th>5.0</th>\n",
              "      <td>45129</td>\n",
              "    </tr>\n",
              "    <tr>\n",
              "      <th>3.03.0</th>\n",
              "      <td>1</td>\n",
              "    </tr>\n",
              "    <tr>\n",
              "      <th>2.05.0</th>\n",
              "      <td>1</td>\n",
              "    </tr>\n",
              "    <tr>\n",
              "      <th>1.05.0</th>\n",
              "      <td>1</td>\n",
              "    </tr>\n",
              "  </tbody>\n",
              "</table>\n",
              "</div><br><label><b>dtype:</b> int64</label>"
            ]
          },
          "metadata": {},
          "execution_count": 10
        }
      ]
    },
    {
      "cell_type": "code",
      "source": [
        "mode = df['Satisfaction'].mode()[0]\n",
        "df['Satisfaction'] = df['Satisfaction'].apply(lambda x: x.replace(x, '2.0') if len(x) > 4 else x)"
      ],
      "metadata": {
        "id": "MAo1fo67GQFE"
      },
      "execution_count": null,
      "outputs": []
    },
    {
      "cell_type": "code",
      "source": [
        "mode = df['Pressure'].mode()[0]\n",
        "df['Pressure'] = df['Pressure'].apply(lambda x: x.replace(x, '2.0') if len(x) > 4 else x)"
      ],
      "metadata": {
        "id": "8VNZR_MxagDW"
      },
      "execution_count": null,
      "outputs": []
    },
    {
      "cell_type": "code",
      "source": [
        "df = df.astype({'Pressure':'float64', 'Satisfaction':'float64'})"
      ],
      "metadata": {
        "id": "mokctn-4EdIr"
      },
      "execution_count": null,
      "outputs": []
    },
    {
      "cell_type": "code",
      "source": [
        "for i in ['Academic Pressure', 'Work Pressure', 'Job Satisfaction', 'Study Satisfaction']:\n",
        "    del df[i]"
      ],
      "metadata": {
        "id": "266C0_6T2JkH"
      },
      "execution_count": null,
      "outputs": []
    },
    {
      "cell_type": "code",
      "source": [
        "del df['id']"
      ],
      "metadata": {
        "id": "2eqQ6kef2uHA"
      },
      "execution_count": null,
      "outputs": []
    },
    {
      "cell_type": "code",
      "source": [
        "df['Sleep Duration'].fillna(df['Sleep Duration'].mode()[0], inplace=True)\n",
        "values = df['Sleep Duration'].value_counts()\n",
        "df['Sleep Duration'] = df['Sleep Duration'].apply(lambda x: x.replace(x, str(values[0])) if values[x] < 10 else x)"
      ],
      "metadata": {
        "colab": {
          "base_uri": "https://localhost:8080/"
        },
        "id": "z52KGKdzECEZ",
        "outputId": "0b3532ce-1935-42f3-d3aa-f0e7ce29db4e"
      },
      "execution_count": null,
      "outputs": [
        {
          "output_type": "stream",
          "name": "stderr",
          "text": [
            "<ipython-input-16-add7152efcdb>:1: FutureWarning: A value is trying to be set on a copy of a DataFrame or Series through chained assignment using an inplace method.\n",
            "The behavior will change in pandas 3.0. This inplace method will never work because the intermediate object on which we are setting values always behaves as a copy.\n",
            "\n",
            "For example, when doing 'df[col].method(value, inplace=True)', try using 'df.method({col: value}, inplace=True)' or df[col] = df[col].method(value) instead, to perform the operation inplace on the original object.\n",
            "\n",
            "\n",
            "  df['Sleep Duration'].fillna(df['Sleep Duration'].mode()[0], inplace=True)\n",
            "<ipython-input-16-add7152efcdb>:3: FutureWarning: Series.__getitem__ treating keys as positions is deprecated. In a future version, integer keys will always be treated as labels (consistent with DataFrame behavior). To access a value by position, use `ser.iloc[pos]`\n",
            "  df['Sleep Duration'] = df['Sleep Duration'].apply(lambda x: x.replace(x, str(values[0])) if values[x] < 10 else x)\n"
          ]
        }
      ]
    },
    {
      "cell_type": "code",
      "source": [
        "df.info()"
      ],
      "metadata": {
        "colab": {
          "base_uri": "https://localhost:8080/"
        },
        "id": "AceDMlWyGwbp",
        "outputId": "6255ae1c-1a03-4570-d90a-2aaade241599"
      },
      "execution_count": null,
      "outputs": [
        {
          "output_type": "stream",
          "name": "stdout",
          "text": [
            "<class 'pandas.core.frame.DataFrame'>\n",
            "RangeIndex: 234500 entries, 0 to 234499\n",
            "Data columns (total 17 columns):\n",
            " #   Column                                 Non-Null Count   Dtype  \n",
            "---  ------                                 --------------   -----  \n",
            " 0   Name                                   234500 non-null  object \n",
            " 1   Gender                                 234500 non-null  object \n",
            " 2   Age                                    234500 non-null  float64\n",
            " 3   City                                   234500 non-null  object \n",
            " 4   Working Professional or Student        234500 non-null  object \n",
            " 5   Profession                             173238 non-null  object \n",
            " 6   CGPA                                   46664 non-null   float64\n",
            " 7   Sleep Duration                         234500 non-null  object \n",
            " 8   Dietary Habits                         234491 non-null  object \n",
            " 9   Degree                                 234496 non-null  object \n",
            " 10  Have you ever had suicidal thoughts ?  234500 non-null  object \n",
            " 11  Work/Study Hours                       234500 non-null  float64\n",
            " 12  Financial Stress                       234496 non-null  float64\n",
            " 13  Family History of Mental Illness       234500 non-null  object \n",
            " 14  Depression                             140700 non-null  float64\n",
            " 15  Pressure                               234500 non-null  float64\n",
            " 16  Satisfaction                           234500 non-null  float64\n",
            "dtypes: float64(7), object(10)\n",
            "memory usage: 30.4+ MB\n"
          ]
        }
      ]
    },
    {
      "cell_type": "code",
      "source": [
        "df['Dietary Habits'].fillna(df['Dietary Habits'].mode()[0], inplace=True)\n",
        "values = df['Dietary Habits'].value_counts()\n",
        "df['Dietary Habits'] = df['Dietary Habits'].apply(lambda x: x.replace(x, str(values[0])) if values[x] < 10 else x)"
      ],
      "metadata": {
        "colab": {
          "base_uri": "https://localhost:8080/"
        },
        "id": "YELQNYbi2zwS",
        "outputId": "5ed46f8b-9052-45a6-fcda-e1fb94976164"
      },
      "execution_count": null,
      "outputs": [
        {
          "output_type": "stream",
          "name": "stderr",
          "text": [
            "<ipython-input-18-9cb71d885949>:1: FutureWarning: A value is trying to be set on a copy of a DataFrame or Series through chained assignment using an inplace method.\n",
            "The behavior will change in pandas 3.0. This inplace method will never work because the intermediate object on which we are setting values always behaves as a copy.\n",
            "\n",
            "For example, when doing 'df[col].method(value, inplace=True)', try using 'df.method({col: value}, inplace=True)' or df[col] = df[col].method(value) instead, to perform the operation inplace on the original object.\n",
            "\n",
            "\n",
            "  df['Dietary Habits'].fillna(df['Dietary Habits'].mode()[0], inplace=True)\n",
            "<ipython-input-18-9cb71d885949>:3: FutureWarning: Series.__getitem__ treating keys as positions is deprecated. In a future version, integer keys will always be treated as labels (consistent with DataFrame behavior). To access a value by position, use `ser.iloc[pos]`\n",
            "  df['Dietary Habits'] = df['Dietary Habits'].apply(lambda x: x.replace(x, str(values[0])) if values[x] < 10 else x)\n"
          ]
        }
      ]
    },
    {
      "cell_type": "code",
      "source": [
        "df.loc[df['Working Professional or Student'] == 'Student', 'Profession'] = df.loc[df['Working Professional or Student'] == 'Student', 'Profession'].fillna('Student')"
      ],
      "metadata": {
        "id": "HVZNGSGZ6531"
      },
      "execution_count": null,
      "outputs": []
    },
    {
      "cell_type": "code",
      "source": [
        "df.info()"
      ],
      "metadata": {
        "colab": {
          "base_uri": "https://localhost:8080/"
        },
        "id": "Rh0NOaCOnSwR",
        "outputId": "9433837e-f511-4dbe-924e-d5076ccacfae"
      },
      "execution_count": null,
      "outputs": [
        {
          "output_type": "stream",
          "name": "stdout",
          "text": [
            "<class 'pandas.core.frame.DataFrame'>\n",
            "RangeIndex: 234500 entries, 0 to 234499\n",
            "Data columns (total 17 columns):\n",
            " #   Column                                 Non-Null Count   Dtype  \n",
            "---  ------                                 --------------   -----  \n",
            " 0   Name                                   234500 non-null  object \n",
            " 1   Gender                                 234500 non-null  object \n",
            " 2   Age                                    234500 non-null  float64\n",
            " 3   City                                   234500 non-null  object \n",
            " 4   Working Professional or Student        234500 non-null  object \n",
            " 5   Profession                             219851 non-null  object \n",
            " 6   CGPA                                   46664 non-null   float64\n",
            " 7   Sleep Duration                         234500 non-null  object \n",
            " 8   Dietary Habits                         234500 non-null  object \n",
            " 9   Degree                                 234496 non-null  object \n",
            " 10  Have you ever had suicidal thoughts ?  234500 non-null  object \n",
            " 11  Work/Study Hours                       234500 non-null  float64\n",
            " 12  Financial Stress                       234496 non-null  float64\n",
            " 13  Family History of Mental Illness       234500 non-null  object \n",
            " 14  Depression                             140700 non-null  float64\n",
            " 15  Pressure                               234500 non-null  float64\n",
            " 16  Satisfaction                           234500 non-null  float64\n",
            "dtypes: float64(7), object(10)\n",
            "memory usage: 30.4+ MB\n"
          ]
        }
      ]
    },
    {
      "cell_type": "code",
      "source": [
        "from sklearn.impute import KNNImputer\n",
        "imputer = KNNImputer(n_neighbors=5)\n",
        "df[['CGPA']] = imputer.fit_transform(df[['CGPA']])"
      ],
      "metadata": {
        "id": "TeH5oGzO-7MT"
      },
      "execution_count": null,
      "outputs": []
    },
    {
      "cell_type": "code",
      "source": [
        "for col in ['Profession', 'Degree', 'Financial Stress']:\n",
        "    df[col] = df[col].fillna(df[col].mode()[0])"
      ],
      "metadata": {
        "id": "Sbg17Czw_vls"
      },
      "execution_count": null,
      "outputs": []
    },
    {
      "cell_type": "code",
      "source": [
        "df_value_counts = df['Profession'].value_counts()\n",
        "df['Profession'] = df['Profession'].apply(lambda x: x.replace(x, 'Others') if df_value_counts[x] < 10 else x)"
      ],
      "metadata": {
        "id": "8XJvCvYIA0_w"
      },
      "execution_count": null,
      "outputs": []
    },
    {
      "cell_type": "code",
      "source": [
        "df.info()"
      ],
      "metadata": {
        "colab": {
          "base_uri": "https://localhost:8080/"
        },
        "id": "PTuB3--iG5eU",
        "outputId": "a181b7da-37dd-4a8a-84bb-27a19518444e"
      },
      "execution_count": null,
      "outputs": [
        {
          "output_type": "stream",
          "name": "stdout",
          "text": [
            "<class 'pandas.core.frame.DataFrame'>\n",
            "RangeIndex: 234500 entries, 0 to 234499\n",
            "Data columns (total 17 columns):\n",
            " #   Column                                 Non-Null Count   Dtype  \n",
            "---  ------                                 --------------   -----  \n",
            " 0   Name                                   234500 non-null  object \n",
            " 1   Gender                                 234500 non-null  object \n",
            " 2   Age                                    234500 non-null  float64\n",
            " 3   City                                   234500 non-null  object \n",
            " 4   Working Professional or Student        234500 non-null  object \n",
            " 5   Profession                             234500 non-null  object \n",
            " 6   CGPA                                   234500 non-null  float64\n",
            " 7   Sleep Duration                         234500 non-null  object \n",
            " 8   Dietary Habits                         234500 non-null  object \n",
            " 9   Degree                                 234500 non-null  object \n",
            " 10  Have you ever had suicidal thoughts ?  234500 non-null  object \n",
            " 11  Work/Study Hours                       234500 non-null  float64\n",
            " 12  Financial Stress                       234500 non-null  float64\n",
            " 13  Family History of Mental Illness       234500 non-null  object \n",
            " 14  Depression                             140700 non-null  float64\n",
            " 15  Pressure                               234500 non-null  float64\n",
            " 16  Satisfaction                           234500 non-null  float64\n",
            "dtypes: float64(7), object(10)\n",
            "memory usage: 30.4+ MB\n"
          ]
        }
      ]
    },
    {
      "cell_type": "code",
      "source": [
        "df = pd.get_dummies(df, dtype='int')"
      ],
      "metadata": {
        "id": "TKC9xRHZBfbm"
      },
      "execution_count": null,
      "outputs": []
    },
    {
      "cell_type": "code",
      "source": [
        "train = df.iloc[:len(train)]\n",
        "test = df.iloc[len(train):]"
      ],
      "metadata": {
        "id": "hgaVAK8lnupG"
      },
      "execution_count": null,
      "outputs": []
    },
    {
      "cell_type": "code",
      "source": [
        "train.to_csv('final_train.csv', index=False)\n",
        "test.to_csv('final_test.csv', index=False)"
      ],
      "metadata": {
        "id": "2fLaV2wKKiFk"
      },
      "execution_count": null,
      "outputs": []
    }
  ]
}