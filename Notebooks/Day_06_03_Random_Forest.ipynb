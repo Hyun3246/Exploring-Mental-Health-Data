{
  "cells": [
    {
      "cell_type": "code",
      "execution_count": 13,
      "metadata": {
        "id": "FvJd6fDRoik2"
      },
      "outputs": [],
      "source": [
        "import pandas as pd\n",
        "df = pd.read_csv('/content/sample_data/final_train.csv')\n",
        "\n",
        "from sklearn.model_selection import train_test_split\n",
        "\n",
        "train_set, test_set_from_train = train_test_split(df, test_size=0.2, random_state=42)\n",
        "\n",
        "# split target and features\n",
        "X_train = train_set.drop('Depression', axis=1)\n",
        "y_train = train_set['Depression'].copy()\n",
        "\n",
        "# from sklearn.preprocessing import StandardScaler\n",
        "# scaler = StandardScaler()\n",
        "# X_train = scaler.fit_transform(X_train)"
      ]
    },
    {
      "cell_type": "code",
      "source": [
        "from sklearn.ensemble import RandomForestClassifier\n",
        "\n",
        "rnd_clf = RandomForestClassifier(n_estimators=1000, max_depth=18, n_jobs=-1, random_state=42)\n",
        "rnd_clf.fit(X_train, y_train)\n",
        "y_pred = rnd_clf.predict(X_train)"
      ],
      "metadata": {
        "id": "n_rnvNyJx9xn"
      },
      "execution_count": 31,
      "outputs": []
    },
    {
      "cell_type": "code",
      "execution_count": 32,
      "metadata": {
        "colab": {
          "base_uri": "https://localhost:8080/"
        },
        "id": "qq-60ELjqQxA",
        "outputId": "f20ce135-a883-4842-b431-a137b4507979"
      },
      "outputs": [
        {
          "output_type": "execute_result",
          "data": {
            "text/plain": [
              "0.9378287135749822"
            ]
          },
          "metadata": {},
          "execution_count": 32
        }
      ],
      "source": [
        "# accuracy score\n",
        "from sklearn.metrics import accuracy_score\n",
        "accuracy_score(y_train, y_pred)"
      ]
    },
    {
      "cell_type": "code",
      "execution_count": 33,
      "metadata": {
        "id": "DBmlYSWtqYq7"
      },
      "outputs": [],
      "source": [
        "# split target and features\n",
        "X_test = test_set_from_train.drop('Depression', axis=1)\n",
        "y_test = test_set_from_train['Depression'].copy()"
      ]
    },
    {
      "cell_type": "code",
      "execution_count": 34,
      "metadata": {
        "colab": {
          "base_uri": "https://localhost:8080/"
        },
        "id": "-7pfikVWqfbs",
        "outputId": "07bbde01-3543-4457-9f3c-820b1ee32c3a"
      },
      "outputs": [
        {
          "output_type": "execute_result",
          "data": {
            "text/plain": [
              "0.9247334754797442"
            ]
          },
          "metadata": {},
          "execution_count": 34
        }
      ],
      "source": [
        "# X_test = scaler.fit_transform(X_test)\n",
        "y_pred = rnd_clf.predict(X_test)\n",
        "accuracy_score(y_test, y_pred)"
      ]
    },
    {
      "cell_type": "code",
      "execution_count": 35,
      "metadata": {
        "id": "EuMZFNqMqglT"
      },
      "outputs": [],
      "source": [
        "# save final prediction\n",
        "test_set = pd.read_csv('/content/sample_data/final_test.csv')\n",
        "del test_set['Depression']\n",
        "# test_set = scaler.transform(test_set)\n",
        "y_pred = rnd_clf.predict(test_set)\n",
        "original_test_set = pd.read_csv('/content/sample_data/test.csv')\n",
        "id = original_test_set['id']\n",
        "final_prediction = pd.DataFrame({'id': id, 'Depression': y_pred})\n",
        "final_prediction.to_csv('rnd_clf_final_prediction.csv', index=False)"
      ]
    }
  ],
  "metadata": {
    "colab": {
      "provenance": []
    },
    "kernelspec": {
      "display_name": "Python 3",
      "name": "python3"
    },
    "language_info": {
      "name": "python"
    }
  },
  "nbformat": 4,
  "nbformat_minor": 0
}