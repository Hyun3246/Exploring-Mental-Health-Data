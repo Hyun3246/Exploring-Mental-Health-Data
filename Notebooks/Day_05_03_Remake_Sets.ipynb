{
  "nbformat": 4,
  "nbformat_minor": 0,
  "metadata": {
    "colab": {
      "provenance": []
    },
    "kernelspec": {
      "name": "python3",
      "display_name": "Python 3"
    },
    "language_info": {
      "name": "python"
    }
  },
  "cells": [
    {
      "cell_type": "code",
      "execution_count": 55,
      "metadata": {
        "id": "qG247h2oh3_p"
      },
      "outputs": [],
      "source": [
        "import pandas as pd"
      ]
    },
    {
      "cell_type": "code",
      "source": [
        "train = pd.read_csv('/content/sample_data/train.csv')"
      ],
      "metadata": {
        "id": "SETMlytyiDFK"
      },
      "execution_count": 74,
      "outputs": []
    },
    {
      "cell_type": "code",
      "source": [
        "for i in ['Name', 'City']:\n",
        "    train_value_counts = train[i].value_counts()\n",
        "    train[i] = train[i].apply(lambda x: x.replace(x, 'Others') if train_value_counts[x] < 10 else x)"
      ],
      "metadata": {
        "id": "j5GTFYVPiVzw"
      },
      "execution_count": 75,
      "outputs": []
    },
    {
      "cell_type": "code",
      "source": [
        "for i in ['Academic Pressure', 'Work Pressure', 'Job Satisfaction', 'Study Satisfaction']:\n",
        "    train[i] = train[i].fillna(\"\")"
      ],
      "metadata": {
        "id": "t9ApKwIr1B_j"
      },
      "execution_count": 76,
      "outputs": []
    },
    {
      "cell_type": "code",
      "source": [
        "train['Pressure'] = train['Academic Pressure'].map(str) + train['Work Pressure'].map(str)\n",
        "train['Satisfaction'] = train['Job Satisfaction'].map(str) + train['Study Satisfaction'].map(str)"
      ],
      "metadata": {
        "id": "KRLWCloM1tWZ"
      },
      "execution_count": 77,
      "outputs": []
    },
    {
      "cell_type": "code",
      "source": [
        "for i in ['Pressure', 'Satisfaction']:\n",
        "    mode = train[i].mode()[0]\n",
        "    train[i] = train[i].apply(lambda x: x.replace(x, mode) if x == '' else x)"
      ],
      "metadata": {
        "id": "P9eUpIilFQgW"
      },
      "execution_count": 78,
      "outputs": []
    },
    {
      "cell_type": "code",
      "source": [
        "train['Satisfaction'].value_counts()"
      ],
      "metadata": {
        "colab": {
          "base_uri": "https://localhost:8080/",
          "height": 335
        },
        "id": "_DvkPF5LGCXH",
        "outputId": "780fa666-4bf5-418f-840c-773f60f9d14a"
      },
      "execution_count": 79,
      "outputs": [
        {
          "output_type": "execute_result",
          "data": {
            "text/plain": [
              "Satisfaction\n",
              "2.0       30637\n",
              "1.0       27775\n",
              "3.0       27772\n",
              "4.0       27280\n",
              "5.0       27234\n",
              "3.03.0        1\n",
              "2.05.0        1\n",
              "Name: count, dtype: int64"
            ],
            "text/html": [
              "<div>\n",
              "<style scoped>\n",
              "    .dataframe tbody tr th:only-of-type {\n",
              "        vertical-align: middle;\n",
              "    }\n",
              "\n",
              "    .dataframe tbody tr th {\n",
              "        vertical-align: top;\n",
              "    }\n",
              "\n",
              "    .dataframe thead th {\n",
              "        text-align: right;\n",
              "    }\n",
              "</style>\n",
              "<table border=\"1\" class=\"dataframe\">\n",
              "  <thead>\n",
              "    <tr style=\"text-align: right;\">\n",
              "      <th></th>\n",
              "      <th>count</th>\n",
              "    </tr>\n",
              "    <tr>\n",
              "      <th>Satisfaction</th>\n",
              "      <th></th>\n",
              "    </tr>\n",
              "  </thead>\n",
              "  <tbody>\n",
              "    <tr>\n",
              "      <th>2.0</th>\n",
              "      <td>30637</td>\n",
              "    </tr>\n",
              "    <tr>\n",
              "      <th>1.0</th>\n",
              "      <td>27775</td>\n",
              "    </tr>\n",
              "    <tr>\n",
              "      <th>3.0</th>\n",
              "      <td>27772</td>\n",
              "    </tr>\n",
              "    <tr>\n",
              "      <th>4.0</th>\n",
              "      <td>27280</td>\n",
              "    </tr>\n",
              "    <tr>\n",
              "      <th>5.0</th>\n",
              "      <td>27234</td>\n",
              "    </tr>\n",
              "    <tr>\n",
              "      <th>3.03.0</th>\n",
              "      <td>1</td>\n",
              "    </tr>\n",
              "    <tr>\n",
              "      <th>2.05.0</th>\n",
              "      <td>1</td>\n",
              "    </tr>\n",
              "  </tbody>\n",
              "</table>\n",
              "</div><br><label><b>dtype:</b> int64</label>"
            ]
          },
          "metadata": {},
          "execution_count": 79
        }
      ]
    },
    {
      "cell_type": "code",
      "source": [
        "mode = train['Satisfaction'].mode()[0]\n",
        "train['Satisfaction'] = train['Satisfaction'].apply(lambda x: x.replace(x, '2.0') if len(x) > 4 else x)"
      ],
      "metadata": {
        "id": "MAo1fo67GQFE"
      },
      "execution_count": 81,
      "outputs": []
    },
    {
      "cell_type": "code",
      "source": [
        "train = train.astype({'Pressure':'float64', 'Satisfaction':'float64'})"
      ],
      "metadata": {
        "id": "mokctn-4EdIr"
      },
      "execution_count": 82,
      "outputs": []
    },
    {
      "cell_type": "code",
      "source": [
        "for i in ['Academic Pressure', 'Work Pressure', 'Job Satisfaction', 'Study Satisfaction']:\n",
        "    del train[i]"
      ],
      "metadata": {
        "id": "266C0_6T2JkH"
      },
      "execution_count": 83,
      "outputs": []
    },
    {
      "cell_type": "code",
      "source": [
        "del train['id']"
      ],
      "metadata": {
        "id": "2eqQ6kef2uHA"
      },
      "execution_count": 84,
      "outputs": []
    },
    {
      "cell_type": "code",
      "source": [
        "train['Sleep Duration'].fillna(train['Sleep Duration'].mode()[0], inplace=True)\n",
        "values = train['Sleep Duration'].value_counts()\n",
        "train['Sleep Duration'] = train['Sleep Duration'].apply(lambda x: x.replace(x, str(values[0])) if values[x] < 10 else x)"
      ],
      "metadata": {
        "colab": {
          "base_uri": "https://localhost:8080/"
        },
        "id": "z52KGKdzECEZ",
        "outputId": "d03228f7-9efb-4008-f9ab-e2faf3e5f16d"
      },
      "execution_count": 86,
      "outputs": [
        {
          "output_type": "stream",
          "name": "stderr",
          "text": [
            "<ipython-input-86-513daa442773>:3: FutureWarning: Series.__getitem__ treating keys as positions is deprecated. In a future version, integer keys will always be treated as labels (consistent with DataFrame behavior). To access a value by position, use `ser.iloc[pos]`\n",
            "  train['Sleep Duration'] = train['Sleep Duration'].apply(lambda x: x.replace(x, str(values[0])) if values[x] < 10 else x)\n"
          ]
        }
      ]
    },
    {
      "cell_type": "code",
      "source": [
        "train.info()"
      ],
      "metadata": {
        "colab": {
          "base_uri": "https://localhost:8080/"
        },
        "id": "AceDMlWyGwbp",
        "outputId": "7b4b2069-8715-48c8-90f1-68da77d04ba7"
      },
      "execution_count": 87,
      "outputs": [
        {
          "output_type": "stream",
          "name": "stdout",
          "text": [
            "<class 'pandas.core.frame.DataFrame'>\n",
            "RangeIndex: 140700 entries, 0 to 140699\n",
            "Data columns (total 17 columns):\n",
            " #   Column                                 Non-Null Count   Dtype  \n",
            "---  ------                                 --------------   -----  \n",
            " 0   Name                                   140700 non-null  object \n",
            " 1   Gender                                 140700 non-null  object \n",
            " 2   Age                                    140700 non-null  float64\n",
            " 3   City                                   140700 non-null  object \n",
            " 4   Working Professional or Student        140700 non-null  object \n",
            " 5   Profession                             104070 non-null  object \n",
            " 6   CGPA                                   27898 non-null   float64\n",
            " 7   Sleep Duration                         140700 non-null  object \n",
            " 8   Dietary Habits                         140696 non-null  object \n",
            " 9   Degree                                 140698 non-null  object \n",
            " 10  Have you ever had suicidal thoughts ?  140700 non-null  object \n",
            " 11  Work/Study Hours                       140700 non-null  float64\n",
            " 12  Financial Stress                       140696 non-null  float64\n",
            " 13  Family History of Mental Illness       140700 non-null  object \n",
            " 14  Depression                             140700 non-null  int64  \n",
            " 15  Pressure                               140700 non-null  float64\n",
            " 16  Satisfaction                           140700 non-null  float64\n",
            "dtypes: float64(6), int64(1), object(10)\n",
            "memory usage: 18.2+ MB\n"
          ]
        }
      ]
    },
    {
      "cell_type": "code",
      "source": [
        "train['Dietary Habits'].fillna(train['Dietary Habits'].mode()[0], inplace=True)\n",
        "values = train['Dietary Habits'].value_counts()\n",
        "train['Dietary Habits'] = train['Dietary Habits'].apply(lambda x: x.replace(x, str(values[0])) if values[x] < 10 else x)"
      ],
      "metadata": {
        "colab": {
          "base_uri": "https://localhost:8080/"
        },
        "id": "YELQNYbi2zwS",
        "outputId": "65a8d580-4b65-4cca-e738-f1d5f9ffa4e0"
      },
      "execution_count": 88,
      "outputs": [
        {
          "output_type": "stream",
          "name": "stderr",
          "text": [
            "<ipython-input-88-52b3c6af15b2>:1: FutureWarning: A value is trying to be set on a copy of a DataFrame or Series through chained assignment using an inplace method.\n",
            "The behavior will change in pandas 3.0. This inplace method will never work because the intermediate object on which we are setting values always behaves as a copy.\n",
            "\n",
            "For example, when doing 'df[col].method(value, inplace=True)', try using 'df.method({col: value}, inplace=True)' or df[col] = df[col].method(value) instead, to perform the operation inplace on the original object.\n",
            "\n",
            "\n",
            "  train['Dietary Habits'].fillna(train['Dietary Habits'].mode()[0], inplace=True)\n",
            "<ipython-input-88-52b3c6af15b2>:3: FutureWarning: Series.__getitem__ treating keys as positions is deprecated. In a future version, integer keys will always be treated as labels (consistent with DataFrame behavior). To access a value by position, use `ser.iloc[pos]`\n",
            "  train['Dietary Habits'] = train['Dietary Habits'].apply(lambda x: x.replace(x, str(values[0])) if values[x] < 10 else x)\n"
          ]
        }
      ]
    },
    {
      "cell_type": "code",
      "source": [
        "train.loc[train['Working Professional or Student'] == 'Student', 'Profession'] = train.loc[train['Working Professional or Student'] == 'Student', 'Profession'].fillna('Student')"
      ],
      "metadata": {
        "id": "HVZNGSGZ6531"
      },
      "execution_count": 89,
      "outputs": []
    },
    {
      "cell_type": "code",
      "source": [
        "from sklearn.impute import KNNImputer\n",
        "imputer = KNNImputer(n_neighbors=5)\n",
        "train[['CGPA']] = imputer.fit_transform(train[['CGPA']])"
      ],
      "metadata": {
        "id": "TeH5oGzO-7MT"
      },
      "execution_count": 90,
      "outputs": []
    },
    {
      "cell_type": "code",
      "source": [
        "for col in ['Profession', 'Degree', 'Financial Stress']:\n",
        "    train[col] = train[col].fillna(train[col].mode()[0])"
      ],
      "metadata": {
        "id": "Sbg17Czw_vls"
      },
      "execution_count": 91,
      "outputs": []
    },
    {
      "cell_type": "code",
      "source": [
        "train_value_counts = train['Profession'].value_counts()\n",
        "train['Profession'] = train['Profession'].apply(lambda x: x.replace(x, 'Others') if train_value_counts[x] < 10 else x)"
      ],
      "metadata": {
        "id": "8XJvCvYIA0_w"
      },
      "execution_count": 92,
      "outputs": []
    },
    {
      "cell_type": "code",
      "source": [
        "train.info()"
      ],
      "metadata": {
        "colab": {
          "base_uri": "https://localhost:8080/"
        },
        "id": "PTuB3--iG5eU",
        "outputId": "23deca03-20ee-4289-fbc0-000bc53d1e04"
      },
      "execution_count": 93,
      "outputs": [
        {
          "output_type": "stream",
          "name": "stdout",
          "text": [
            "<class 'pandas.core.frame.DataFrame'>\n",
            "RangeIndex: 140700 entries, 0 to 140699\n",
            "Data columns (total 17 columns):\n",
            " #   Column                                 Non-Null Count   Dtype  \n",
            "---  ------                                 --------------   -----  \n",
            " 0   Name                                   140700 non-null  object \n",
            " 1   Gender                                 140700 non-null  object \n",
            " 2   Age                                    140700 non-null  float64\n",
            " 3   City                                   140700 non-null  object \n",
            " 4   Working Professional or Student        140700 non-null  object \n",
            " 5   Profession                             140700 non-null  object \n",
            " 6   CGPA                                   140700 non-null  float64\n",
            " 7   Sleep Duration                         140700 non-null  object \n",
            " 8   Dietary Habits                         140700 non-null  object \n",
            " 9   Degree                                 140700 non-null  object \n",
            " 10  Have you ever had suicidal thoughts ?  140700 non-null  object \n",
            " 11  Work/Study Hours                       140700 non-null  float64\n",
            " 12  Financial Stress                       140700 non-null  float64\n",
            " 13  Family History of Mental Illness       140700 non-null  object \n",
            " 14  Depression                             140700 non-null  int64  \n",
            " 15  Pressure                               140700 non-null  float64\n",
            " 16  Satisfaction                           140700 non-null  float64\n",
            "dtypes: float64(6), int64(1), object(10)\n",
            "memory usage: 18.2+ MB\n"
          ]
        }
      ]
    },
    {
      "cell_type": "code",
      "source": [
        "train = pd.get_dummies(train, dtype='int')"
      ],
      "metadata": {
        "id": "TKC9xRHZBfbm"
      },
      "execution_count": 51,
      "outputs": []
    },
    {
      "cell_type": "code",
      "source": [
        "train.to_csv('train_processed.csv', index=False)"
      ],
      "metadata": {
        "id": "2fLaV2wKKiFk"
      },
      "execution_count": 94,
      "outputs": []
    }
  ]
}