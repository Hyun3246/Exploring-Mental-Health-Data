{
  "cells": [
    {
      "cell_type": "code",
      "execution_count": 3,
      "metadata": {
        "id": "6YubC84BXwK7"
      },
      "outputs": [],
      "source": [
        "import pandas as pd\n",
        "df = pd.read_csv('/content/sample_data/final_train.csv')\n",
        "\n",
        "from sklearn.model_selection import train_test_split\n",
        "\n",
        "train_set, test_set_from_train = train_test_split(df, test_size=0.2, random_state=42)\n",
        "\n",
        "# split target and features\n",
        "X_train = train_set.drop('Depression', axis=1)\n",
        "y_train = train_set['Depression'].copy()\n",
        "\n",
        "from sklearn.preprocessing import StandardScaler\n",
        "scaler = StandardScaler()\n",
        "X_train = scaler.fit_transform(X_train)"
      ]
    },
    {
      "cell_type": "code",
      "execution_count": 4,
      "metadata": {
        "id": "rX-e1qxaafar"
      },
      "outputs": [],
      "source": [
        "from sklearn.svm import SVC\n",
        "\n",
        "svm_clf = SVC(kernel='poly', degree=3, C=1, random_state=42)\n",
        "svm_clf.fit(X_train, y_train)\n",
        "y_pred = svm_clf.predict(X_train)"
      ]
    },
    {
      "cell_type": "code",
      "execution_count": 5,
      "metadata": {
        "colab": {
          "base_uri": "https://localhost:8080/"
        },
        "id": "WD_XxoJBbg1i",
        "outputId": "495f04f1-33a9-4dc2-aa86-14035909c3d4"
      },
      "outputs": [
        {
          "output_type": "execute_result",
          "data": {
            "text/plain": [
              "0.9283493248045487"
            ]
          },
          "metadata": {},
          "execution_count": 5
        }
      ],
      "source": [
        "# accuracy score\n",
        "from sklearn.metrics import accuracy_score\n",
        "accuracy_score(y_train, y_pred)"
      ]
    },
    {
      "cell_type": "code",
      "source": [
        "# split target and features\n",
        "X_test = test_set_from_train.drop('Depression', axis=1)\n",
        "y_test = test_set_from_train['Depression'].copy()\n",
        "X_test = scaler.transform(X_test)"
      ],
      "metadata": {
        "id": "3QEp0uQeZeOF"
      },
      "execution_count": 7,
      "outputs": []
    },
    {
      "cell_type": "code",
      "execution_count": 8,
      "metadata": {
        "colab": {
          "base_uri": "https://localhost:8080/"
        },
        "id": "nclxexufbi8p",
        "outputId": "8fe90f11-d327-41b7-ac28-138daabac21a"
      },
      "outputs": [
        {
          "output_type": "execute_result",
          "data": {
            "text/plain": [
              "0.903269367448472"
            ]
          },
          "metadata": {},
          "execution_count": 8
        }
      ],
      "source": [
        "y_pred = svm_clf.predict(X_test)\n",
        "accuracy_score(y_test, y_pred)"
      ]
    },
    {
      "cell_type": "code",
      "execution_count": null,
      "metadata": {
        "id": "4N5DHFIJdtI7"
      },
      "outputs": [],
      "source": [
        "# save final prediction\n",
        "test_set = pd.read_csv('/content/sample_data/final_test.csv')\n",
        "del test_set['Depression']\n",
        "test_set = scaler.transform(test_set)\n",
        "y_pred = svm_clf.predict(test_set)\n",
        "original_test_set = pd.read_csv('/content/sample_data/test.csv')\n",
        "id = original_test_set['id']\n",
        "final_prediction = pd.DataFrame({'id': id, 'Depression': y_pred})\n",
        "final_prediction.to_csv('rnd_clf_final_prediction.csv', index=False)"
      ]
    }
  ],
  "metadata": {
    "colab": {
      "provenance": []
    },
    "kernelspec": {
      "display_name": "Python 3",
      "name": "python3"
    },
    "language_info": {
      "name": "python"
    }
  },
  "nbformat": 4,
  "nbformat_minor": 0
}