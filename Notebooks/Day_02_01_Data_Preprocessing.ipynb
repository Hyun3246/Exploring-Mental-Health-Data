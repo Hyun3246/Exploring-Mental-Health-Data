{
  "nbformat": 4,
  "nbformat_minor": 0,
  "metadata": {
    "colab": {
      "provenance": []
    },
    "kernelspec": {
      "name": "python3",
      "display_name": "Python 3"
    },
    "language_info": {
      "name": "python"
    }
  },
  "cells": [
    {
      "cell_type": "code",
      "execution_count": 1,
      "metadata": {
        "id": "AtKklLY923Lj"
      },
      "outputs": [],
      "source": [
        "import numpy as np\n",
        "import pandas as pd\n",
        "import matplotlib.pyplot as plt"
      ]
    },
    {
      "cell_type": "code",
      "source": [
        "df = pd.read_csv('/content/sample_data/train.csv')"
      ],
      "metadata": {
        "id": "w3hiNeTe3chm"
      },
      "execution_count": 2,
      "outputs": []
    },
    {
      "cell_type": "code",
      "source": [
        "# delete features don't need\n",
        "df = df.drop(columns=['id', 'Name', 'City', 'Profession', 'Degree'])"
      ],
      "metadata": {
        "id": "WXS8PRpw3jC4"
      },
      "execution_count": 3,
      "outputs": []
    },
    {
      "cell_type": "code",
      "source": [
        "df1 = df.copy()"
      ],
      "metadata": {
        "id": "UKCEdsX54Xqm"
      },
      "execution_count": 4,
      "outputs": []
    },
    {
      "cell_type": "code",
      "source": [
        "# fill null of 'Academic Pressure', 'CGPA', 'Study Satisfaction' by KNN Imputer\n",
        "from sklearn.impute import KNNImputer\n",
        "imputer = KNNImputer(n_neighbors=5)\n",
        "df1[['Academic Pressure', 'CGPA', 'Study Satisfaction']] = imputer.fit_transform(df1[['Academic Pressure', 'CGPA', 'Study Satisfaction']])"
      ],
      "metadata": {
        "id": "z6QF5aOT3moT"
      },
      "execution_count": 5,
      "outputs": []
    },
    {
      "cell_type": "code",
      "source": [
        "df1.info()"
      ],
      "metadata": {
        "colab": {
          "base_uri": "https://localhost:8080/"
        },
        "id": "Xg6mzuJ57yV6",
        "outputId": "2530a3bb-0ab9-417f-a391-f19cfa0f754e"
      },
      "execution_count": 6,
      "outputs": [
        {
          "output_type": "stream",
          "name": "stdout",
          "text": [
            "<class 'pandas.core.frame.DataFrame'>\n",
            "RangeIndex: 140700 entries, 0 to 140699\n",
            "Data columns (total 15 columns):\n",
            " #   Column                                 Non-Null Count   Dtype  \n",
            "---  ------                                 --------------   -----  \n",
            " 0   Gender                                 140700 non-null  object \n",
            " 1   Age                                    140700 non-null  float64\n",
            " 2   Working Professional or Student        140700 non-null  object \n",
            " 3   Academic Pressure                      140700 non-null  float64\n",
            " 4   Work Pressure                          112782 non-null  float64\n",
            " 5   CGPA                                   140700 non-null  float64\n",
            " 6   Study Satisfaction                     140700 non-null  float64\n",
            " 7   Job Satisfaction                       112790 non-null  float64\n",
            " 8   Sleep Duration                         140700 non-null  object \n",
            " 9   Dietary Habits                         140696 non-null  object \n",
            " 10  Have you ever had suicidal thoughts ?  140700 non-null  object \n",
            " 11  Work/Study Hours                       140700 non-null  float64\n",
            " 12  Financial Stress                       140696 non-null  float64\n",
            " 13  Family History of Mental Illness       140700 non-null  object \n",
            " 14  Depression                             140700 non-null  int64  \n",
            "dtypes: float64(8), int64(1), object(6)\n",
            "memory usage: 16.1+ MB\n"
          ]
        }
      ]
    },
    {
      "cell_type": "code",
      "source": [
        "df1['Academic Pressure'].value_counts()"
      ],
      "metadata": {
        "colab": {
          "base_uri": "https://localhost:8080/",
          "height": 397
        },
        "id": "FtWSuQN177gy",
        "outputId": "aed93685-7b56-4dea-e3fa-e251828e73f4"
      },
      "execution_count": 7,
      "outputs": [
        {
          "output_type": "execute_result",
          "data": {
            "text/plain": [
              "Academic Pressure\n",
              "3.142273    112799\n",
              "3.000000      7464\n",
              "5.000000      6296\n",
              "4.000000      5158\n",
              "1.000000      4801\n",
              "2.000000      4179\n",
              "2.600000         1\n",
              "3.200000         1\n",
              "3.600000         1\n",
              "Name: count, dtype: int64"
            ],
            "text/html": [
              "<div>\n",
              "<style scoped>\n",
              "    .dataframe tbody tr th:only-of-type {\n",
              "        vertical-align: middle;\n",
              "    }\n",
              "\n",
              "    .dataframe tbody tr th {\n",
              "        vertical-align: top;\n",
              "    }\n",
              "\n",
              "    .dataframe thead th {\n",
              "        text-align: right;\n",
              "    }\n",
              "</style>\n",
              "<table border=\"1\" class=\"dataframe\">\n",
              "  <thead>\n",
              "    <tr style=\"text-align: right;\">\n",
              "      <th></th>\n",
              "      <th>count</th>\n",
              "    </tr>\n",
              "    <tr>\n",
              "      <th>Academic Pressure</th>\n",
              "      <th></th>\n",
              "    </tr>\n",
              "  </thead>\n",
              "  <tbody>\n",
              "    <tr>\n",
              "      <th>3.142273</th>\n",
              "      <td>112799</td>\n",
              "    </tr>\n",
              "    <tr>\n",
              "      <th>3.000000</th>\n",
              "      <td>7464</td>\n",
              "    </tr>\n",
              "    <tr>\n",
              "      <th>5.000000</th>\n",
              "      <td>6296</td>\n",
              "    </tr>\n",
              "    <tr>\n",
              "      <th>4.000000</th>\n",
              "      <td>5158</td>\n",
              "    </tr>\n",
              "    <tr>\n",
              "      <th>1.000000</th>\n",
              "      <td>4801</td>\n",
              "    </tr>\n",
              "    <tr>\n",
              "      <th>2.000000</th>\n",
              "      <td>4179</td>\n",
              "    </tr>\n",
              "    <tr>\n",
              "      <th>2.600000</th>\n",
              "      <td>1</td>\n",
              "    </tr>\n",
              "    <tr>\n",
              "      <th>3.200000</th>\n",
              "      <td>1</td>\n",
              "    </tr>\n",
              "    <tr>\n",
              "      <th>3.600000</th>\n",
              "      <td>1</td>\n",
              "    </tr>\n",
              "  </tbody>\n",
              "</table>\n",
              "</div><br><label><b>dtype:</b> int64</label>"
            ]
          },
          "metadata": {},
          "execution_count": 7
        }
      ]
    },
    {
      "cell_type": "code",
      "source": [
        "# fill null of Work Pressure, Job Satisfaction, Dietary Habits, Financial Stress by mode\n",
        "for col in ['Work Pressure', 'Job Satisfaction', 'Dietary Habits', 'Financial Stress']:\n",
        "  df1[col] = df1[col].fillna(df1[col].mode()[0])"
      ],
      "metadata": {
        "id": "-qgHi1uP4mXp"
      },
      "execution_count": 8,
      "outputs": []
    },
    {
      "cell_type": "code",
      "source": [
        "df1.info()"
      ],
      "metadata": {
        "colab": {
          "base_uri": "https://localhost:8080/"
        },
        "id": "xNBJMZ1v8G1D",
        "outputId": "02ed0524-9b49-4e15-e42c-b6a06f308c60"
      },
      "execution_count": 9,
      "outputs": [
        {
          "output_type": "stream",
          "name": "stdout",
          "text": [
            "<class 'pandas.core.frame.DataFrame'>\n",
            "RangeIndex: 140700 entries, 0 to 140699\n",
            "Data columns (total 15 columns):\n",
            " #   Column                                 Non-Null Count   Dtype  \n",
            "---  ------                                 --------------   -----  \n",
            " 0   Gender                                 140700 non-null  object \n",
            " 1   Age                                    140700 non-null  float64\n",
            " 2   Working Professional or Student        140700 non-null  object \n",
            " 3   Academic Pressure                      140700 non-null  float64\n",
            " 4   Work Pressure                          140700 non-null  float64\n",
            " 5   CGPA                                   140700 non-null  float64\n",
            " 6   Study Satisfaction                     140700 non-null  float64\n",
            " 7   Job Satisfaction                       140700 non-null  float64\n",
            " 8   Sleep Duration                         140700 non-null  object \n",
            " 9   Dietary Habits                         140700 non-null  object \n",
            " 10  Have you ever had suicidal thoughts ?  140700 non-null  object \n",
            " 11  Work/Study Hours                       140700 non-null  float64\n",
            " 12  Financial Stress                       140700 non-null  float64\n",
            " 13  Family History of Mental Illness       140700 non-null  object \n",
            " 14  Depression                             140700 non-null  int64  \n",
            "dtypes: float64(8), int64(1), object(6)\n",
            "memory usage: 16.1+ MB\n"
          ]
        }
      ]
    },
    {
      "cell_type": "code",
      "source": [
        "df1.to_csv(\"train_non_null.csv\", index = False)"
      ],
      "metadata": {
        "id": "mnYIkcfV8L65"
      },
      "execution_count": 11,
      "outputs": []
    },
    {
      "cell_type": "code",
      "source": [
        "df1 = pd.read_csv('/content/train_non_null.csv')"
      ],
      "metadata": {
        "id": "WdzkK79J84r9"
      },
      "execution_count": 50,
      "outputs": []
    },
    {
      "cell_type": "code",
      "source": [
        "# replace less than 10 value to mode\n",
        "sleep_duration_values = df1['Sleep Duration'].value_counts()\n",
        "df1['Sleep Duration'] = df1['Sleep Duration'].apply(lambda x: x.replace(x, 'Less than 5 hours') if sleep_duration_values[x] < 10 else x)"
      ],
      "metadata": {
        "id": "yqeCSWTk9q1-"
      },
      "execution_count": 51,
      "outputs": []
    },
    {
      "cell_type": "code",
      "source": [
        "df1['Sleep Duration'].value_counts()"
      ],
      "metadata": {
        "colab": {
          "base_uri": "https://localhost:8080/",
          "height": 272
        },
        "id": "-PwmMv7f-SlE",
        "outputId": "a1d0a346-2b0a-4c79-89f9-7f1d2e77fff6"
      },
      "execution_count": 52,
      "outputs": [
        {
          "output_type": "execute_result",
          "data": {
            "text/plain": [
              "Sleep Duration\n",
              "Less than 5 hours    38851\n",
              "7-8 hours            36969\n",
              "More than 8 hours    32726\n",
              "5-6 hours            32142\n",
              "3-4 hours               12\n",
              "Name: count, dtype: int64"
            ],
            "text/html": [
              "<div>\n",
              "<style scoped>\n",
              "    .dataframe tbody tr th:only-of-type {\n",
              "        vertical-align: middle;\n",
              "    }\n",
              "\n",
              "    .dataframe tbody tr th {\n",
              "        vertical-align: top;\n",
              "    }\n",
              "\n",
              "    .dataframe thead th {\n",
              "        text-align: right;\n",
              "    }\n",
              "</style>\n",
              "<table border=\"1\" class=\"dataframe\">\n",
              "  <thead>\n",
              "    <tr style=\"text-align: right;\">\n",
              "      <th></th>\n",
              "      <th>count</th>\n",
              "    </tr>\n",
              "    <tr>\n",
              "      <th>Sleep Duration</th>\n",
              "      <th></th>\n",
              "    </tr>\n",
              "  </thead>\n",
              "  <tbody>\n",
              "    <tr>\n",
              "      <th>Less than 5 hours</th>\n",
              "      <td>38851</td>\n",
              "    </tr>\n",
              "    <tr>\n",
              "      <th>7-8 hours</th>\n",
              "      <td>36969</td>\n",
              "    </tr>\n",
              "    <tr>\n",
              "      <th>More than 8 hours</th>\n",
              "      <td>32726</td>\n",
              "    </tr>\n",
              "    <tr>\n",
              "      <th>5-6 hours</th>\n",
              "      <td>32142</td>\n",
              "    </tr>\n",
              "    <tr>\n",
              "      <th>3-4 hours</th>\n",
              "      <td>12</td>\n",
              "    </tr>\n",
              "  </tbody>\n",
              "</table>\n",
              "</div><br><label><b>dtype:</b> int64</label>"
            ]
          },
          "metadata": {},
          "execution_count": 52
        }
      ]
    },
    {
      "cell_type": "code",
      "source": [
        "# replace less than 10 value to mode\n",
        "dietary_habits_values = df1['Dietary Habits'].value_counts()\n",
        "df1['Dietary Habits'] = df1['Dietary Habits'].apply(lambda x: x.replace(x, 'Moderate') if dietary_habits_values[x] < 10 else x)"
      ],
      "metadata": {
        "id": "UMGfWCF3E2DB"
      },
      "execution_count": 53,
      "outputs": []
    },
    {
      "cell_type": "code",
      "source": [
        "df1['Dietary Habits'].value_counts()"
      ],
      "metadata": {
        "colab": {
          "base_uri": "https://localhost:8080/",
          "height": 209
        },
        "id": "-rZueuBvFMvn",
        "outputId": "0ac88972-356c-461c-fd08-2a5d2ae5488b"
      },
      "execution_count": 54,
      "outputs": [
        {
          "output_type": "execute_result",
          "data": {
            "text/plain": [
              "Dietary Habits\n",
              "Moderate     49732\n",
              "Unhealthy    46227\n",
              "Healthy      44741\n",
              "Name: count, dtype: int64"
            ],
            "text/html": [
              "<div>\n",
              "<style scoped>\n",
              "    .dataframe tbody tr th:only-of-type {\n",
              "        vertical-align: middle;\n",
              "    }\n",
              "\n",
              "    .dataframe tbody tr th {\n",
              "        vertical-align: top;\n",
              "    }\n",
              "\n",
              "    .dataframe thead th {\n",
              "        text-align: right;\n",
              "    }\n",
              "</style>\n",
              "<table border=\"1\" class=\"dataframe\">\n",
              "  <thead>\n",
              "    <tr style=\"text-align: right;\">\n",
              "      <th></th>\n",
              "      <th>count</th>\n",
              "    </tr>\n",
              "    <tr>\n",
              "      <th>Dietary Habits</th>\n",
              "      <th></th>\n",
              "    </tr>\n",
              "  </thead>\n",
              "  <tbody>\n",
              "    <tr>\n",
              "      <th>Moderate</th>\n",
              "      <td>49732</td>\n",
              "    </tr>\n",
              "    <tr>\n",
              "      <th>Unhealthy</th>\n",
              "      <td>46227</td>\n",
              "    </tr>\n",
              "    <tr>\n",
              "      <th>Healthy</th>\n",
              "      <td>44741</td>\n",
              "    </tr>\n",
              "  </tbody>\n",
              "</table>\n",
              "</div><br><label><b>dtype:</b> int64</label>"
            ]
          },
          "metadata": {},
          "execution_count": 54
        }
      ]
    },
    {
      "cell_type": "code",
      "source": [
        "df1.to_csv(\"train_non_null_less_values.csv\", index = False)"
      ],
      "metadata": {
        "id": "nshe4az8FoUM"
      },
      "execution_count": 55,
      "outputs": []
    }
  ]
}