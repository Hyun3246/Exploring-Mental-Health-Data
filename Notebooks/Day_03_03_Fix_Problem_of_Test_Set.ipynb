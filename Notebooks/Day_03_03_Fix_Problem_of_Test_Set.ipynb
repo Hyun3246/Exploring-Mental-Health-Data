{
  "nbformat": 4,
  "nbformat_minor": 0,
  "metadata": {
    "colab": {
      "provenance": []
    },
    "kernelspec": {
      "name": "python3",
      "display_name": "Python 3"
    },
    "language_info": {
      "name": "python"
    }
  },
  "cells": [
    {
      "cell_type": "code",
      "execution_count": 1,
      "metadata": {
        "id": "v_ax4eJ9lBIL"
      },
      "outputs": [],
      "source": [
        "import pandas as pd"
      ]
    },
    {
      "cell_type": "code",
      "source": [
        "test_set = pd.read_csv('/content/sample_data/final_test.csv')"
      ],
      "metadata": {
        "id": "0veHz2jDnrAG"
      },
      "execution_count": 2,
      "outputs": []
    },
    {
      "cell_type": "code",
      "source": [
        "test_set.insert(12, 'Sleep Duration_3-4 hours', [0]*len(test_set))"
      ],
      "metadata": {
        "id": "Zdv3ROY_ntXr"
      },
      "execution_count": 3,
      "outputs": []
    },
    {
      "cell_type": "code",
      "source": [
        "test_set.to_csv('final_test.csv', index=False)"
      ],
      "metadata": {
        "id": "PFcOGFU8nvGt"
      },
      "execution_count": 4,
      "outputs": []
    }
  ]
}