{
  "nbformat": 4,
  "nbformat_minor": 0,
  "metadata": {
    "colab": {
      "provenance": []
    },
    "kernelspec": {
      "name": "python3",
      "display_name": "Python 3"
    },
    "language_info": {
      "name": "python"
    }
  },
  "cells": [
    {
      "cell_type": "code",
      "execution_count": 1,
      "metadata": {
        "id": "rCf3Apy_cw-7"
      },
      "outputs": [],
      "source": [
        "from sklearn.pipeline import Pipeline\n",
        "from sklearn.impute import KNNImputer\n",
        "from sklearn.impute import SimpleImputer\n",
        "from sklearn.preprocessing import OneHotEncoder\n",
        "from sklearn.base import BaseEstimator, TransformerMixin\n",
        "\n",
        "# Delete Columns Class\n",
        "class columnDropperTransformer():\n",
        "    def __init__(self,columns):\n",
        "        self.columns=columns\n",
        "\n",
        "    def transform(self,X,y=None):\n",
        "        return X.drop(self.columns,axis=1)\n",
        "\n",
        "    def fit(self, X, y=None):\n",
        "        return self\n",
        "\n",
        "# KNN Imputer for specific columns Class\n",
        "class KNNFeatureImputer:\n",
        "    def __init__(self, n_neighbors=5, weights=\"uniform\", metric=\"nan_euclidean\", features_to_impute=None):\n",
        "        self.n_neighbors = n_neighbors\n",
        "        self.weights = weights\n",
        "        self.metric = metric\n",
        "        self.features_to_impute = features_to_impute\n",
        "        self.imputer = None\n",
        "\n",
        "    def fit(self, X, y=None):\n",
        "        X = self._check_dataframe(X)\n",
        "        self.features_to_impute_ = (\n",
        "            X.columns if self.features_to_impute is None else self.features_to_impute\n",
        "        )\n",
        "        self.imputer = KNNImputer(\n",
        "            n_neighbors=self.n_neighbors, weights=self.weights, metric=self.metric\n",
        "        )\n",
        "        # Fit only the selected columns\n",
        "        self.imputer.fit(X[self.features_to_impute_])\n",
        "        return self\n",
        "\n",
        "    def transform(self, X):\n",
        "        X = self._check_dataframe(X)\n",
        "        X_copy = X.copy()\n",
        "        X_copy[self.features_to_impute_] = self.imputer.transform(\n",
        "            X[self.features_to_impute_]\n",
        "        )\n",
        "        return X_copy\n",
        "\n",
        "    def fit_transform(self, X, y=None):\n",
        "        return self.fit(X).transform(X)\n",
        "\n",
        "    def _check_dataframe(self, X):\n",
        "        if not isinstance(X, pd.DataFrame):\n",
        "            raise ValueError(\"Input data must be a pandas DataFrame.\")\n",
        "        return X\n",
        "\n",
        "# FillNa Class\n",
        "class FillNa(BaseEstimator, TransformerMixin):\n",
        "    def __init__(self, columns=None):\n",
        "        self.columns = columns\n",
        "\n",
        "    def fit(self, X, y=None):\n",
        "        return self\n",
        "\n",
        "    def transform(self, X):\n",
        "        for col in self.columns:\n",
        "            X[col] = X[col].fillna(X[col].mode()[0])\n",
        "        return X\n",
        "\n",
        "# pd.get_dummies Class\n",
        "class GetDummies(BaseEstimator, TransformerMixin):\n",
        "    def __init__(self, columns=None, drop_first=False):\n",
        "        self.columns = columns\n",
        "        self.drop_first = drop_first\n",
        "\n",
        "    def fit(self, X, y=None):\n",
        "        return self\n",
        "\n",
        "    def transform(self, X):\n",
        "        return pd.get_dummies(X, columns=self.columns, drop_first=self.drop_first)\n",
        "\n",
        "pipeline1 = Pipeline([\n",
        "    (\"columnDropper\", columnDropperTransformer(['id', 'Name', 'City', 'Profession', 'Degree'])),\n",
        "    (\"KNNFeatureImputer\", KNNFeatureImputer(features_to_impute=['Academic Pressure', 'CGPA', 'Study Satisfaction'])),\n",
        "    ('FillNa', FillNa(columns=['Work Pressure', 'Job Satisfaction', 'Dietary Habits', 'Financial Stress'])),\n",
        "    ('GetDummies', GetDummies(columns=[]))\n",
        "])"
      ]
    },
    {
      "cell_type": "code",
      "source": [
        "import pandas as pd\n",
        "df_test = pd.read_csv('/content/sample_data/test.csv')\n",
        "df_final_test = pipeline1.fit_transform(df_test)"
      ],
      "metadata": {
        "id": "iFq2kcfWdtrW"
      },
      "execution_count": 3,
      "outputs": []
    },
    {
      "cell_type": "code",
      "source": [
        "df_final_test.info()"
      ],
      "metadata": {
        "colab": {
          "base_uri": "https://localhost:8080/"
        },
        "id": "9obytZBdJsw1",
        "outputId": "6cfd3ec7-0e17-4d23-ae2d-4100dcc77791"
      },
      "execution_count": 4,
      "outputs": [
        {
          "output_type": "stream",
          "name": "stdout",
          "text": [
            "<class 'pandas.core.frame.DataFrame'>\n",
            "RangeIndex: 93800 entries, 0 to 93799\n",
            "Data columns (total 14 columns):\n",
            " #   Column                                 Non-Null Count  Dtype  \n",
            "---  ------                                 --------------  -----  \n",
            " 0   Gender                                 93800 non-null  object \n",
            " 1   Age                                    93800 non-null  float64\n",
            " 2   Working Professional or Student        93800 non-null  object \n",
            " 3   Academic Pressure                      93800 non-null  float64\n",
            " 4   Work Pressure                          75022 non-null  float64\n",
            " 5   CGPA                                   93800 non-null  float64\n",
            " 6   Study Satisfaction                     93800 non-null  float64\n",
            " 7   Job Satisfaction                       75026 non-null  float64\n",
            " 8   Sleep Duration                         93800 non-null  object \n",
            " 9   Dietary Habits                         93795 non-null  object \n",
            " 10  Have you ever had suicidal thoughts ?  93800 non-null  object \n",
            " 11  Work/Study Hours                       93800 non-null  float64\n",
            " 12  Financial Stress                       93800 non-null  float64\n",
            " 13  Family History of Mental Illness       93800 non-null  object \n",
            "dtypes: float64(8), object(6)\n",
            "memory usage: 10.0+ MB\n"
          ]
        }
      ]
    },
    {
      "cell_type": "code",
      "source": [
        "df_final_test = pipeline2.fit_transform(df_final_test)"
      ],
      "metadata": {
        "id": "1NxIIwdyd_Ae"
      },
      "execution_count": 5,
      "outputs": []
    },
    {
      "cell_type": "code",
      "source": [
        "df_final_test.info()"
      ],
      "metadata": {
        "colab": {
          "base_uri": "https://localhost:8080/"
        },
        "id": "aJ2fMMXcJv_L",
        "outputId": "f3c30333-0976-443b-faa0-591d6c6310ba"
      },
      "execution_count": 6,
      "outputs": [
        {
          "output_type": "stream",
          "name": "stdout",
          "text": [
            "<class 'pandas.core.frame.DataFrame'>\n",
            "RangeIndex: 93800 entries, 0 to 93799\n",
            "Data columns (total 14 columns):\n",
            " #   Column                                 Non-Null Count  Dtype  \n",
            "---  ------                                 --------------  -----  \n",
            " 0   Gender                                 93800 non-null  object \n",
            " 1   Age                                    93800 non-null  float64\n",
            " 2   Working Professional or Student        93800 non-null  object \n",
            " 3   Academic Pressure                      93800 non-null  float64\n",
            " 4   Work Pressure                          93800 non-null  float64\n",
            " 5   CGPA                                   93800 non-null  float64\n",
            " 6   Study Satisfaction                     93800 non-null  float64\n",
            " 7   Job Satisfaction                       93800 non-null  float64\n",
            " 8   Sleep Duration                         93800 non-null  object \n",
            " 9   Dietary Habits                         93800 non-null  object \n",
            " 10  Have you ever had suicidal thoughts ?  93800 non-null  object \n",
            " 11  Work/Study Hours                       93800 non-null  float64\n",
            " 12  Financial Stress                       93800 non-null  float64\n",
            " 13  Family History of Mental Illness       93800 non-null  object \n",
            "dtypes: float64(8), object(6)\n",
            "memory usage: 10.0+ MB\n"
          ]
        }
      ]
    }
  ]
}