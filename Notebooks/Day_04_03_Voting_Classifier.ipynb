{
  "nbformat": 4,
  "nbformat_minor": 0,
  "metadata": {
    "colab": {
      "provenance": [],
      "gpuType": "T4"
    },
    "kernelspec": {
      "name": "python3",
      "display_name": "Python 3"
    },
    "language_info": {
      "name": "python"
    },
    "accelerator": "GPU"
  },
  "cells": [
    {
      "cell_type": "code",
      "source": [
        "import pandas as pd\n",
        "\n",
        "df = pd.read_csv('/content/sample_data/final_train.csv')\n",
        "\n",
        "from sklearn.model_selection import train_test_split\n",
        "\n",
        "train_set, test_set_from_train = train_test_split(df, test_size=0.2, random_state=42)\n",
        "\n",
        "# split target and features\n",
        "X_train = train_set.drop('Depression', axis=1)\n",
        "y_train = train_set['Depression'].copy()"
      ],
      "metadata": {
        "id": "dqOuphIpqHKr"
      },
      "execution_count": 1,
      "outputs": []
    },
    {
      "cell_type": "code",
      "source": [
        "from sklearn.preprocessing import StandardScaler\n",
        "scaler = StandardScaler()\n",
        "X_train = scaler.fit_transform(X_train)"
      ],
      "metadata": {
        "id": "K0XIK4_5n1r0"
      },
      "execution_count": 2,
      "outputs": []
    },
    {
      "cell_type": "code",
      "execution_count": 3,
      "metadata": {
        "id": "t9iJ8OqInk3O"
      },
      "outputs": [],
      "source": [
        "from sklearn.svm import SVC\n",
        "from sklearn.ensemble import RandomForestClassifier\n",
        "from sklearn.linear_model import LogisticRegression\n",
        "from sklearn.ensemble import VotingClassifier\n",
        "\n",
        "voting_clf = VotingClassifier(\n",
        "    estimators=[\n",
        "        ('lr', LogisticRegression(random_state=42)),\n",
        "        ('rf', RandomForestClassifier(n_estimators=1000, max_depth=14, n_jobs=-1, random_state=42)),\n",
        "        ('nonlinear_svc', SVC(kernel='poly', degree=3, C=1, random_state=42, probability=True)),\n",
        "    ],\n",
        "    voting='soft'\n",
        ")"
      ]
    },
    {
      "cell_type": "code",
      "source": [
        "voting_clf.fit(X_train, y_train)\n",
        "y_pred = voting_clf.predict(X_train)"
      ],
      "metadata": {
        "id": "KBndPcLZqjVT"
      },
      "execution_count": 4,
      "outputs": []
    },
    {
      "cell_type": "code",
      "source": [
        "# cross_val_score\n",
        "from sklearn.model_selection import cross_val_score\n",
        "cross_val_score(voting_clf, X_train, y_train, cv=3, scoring='accuracy')"
      ],
      "metadata": {
        "id": "w9loByEYq05w",
        "colab": {
          "base_uri": "https://localhost:8080/"
        },
        "outputId": "1a0eae4e-913a-4fcb-a5d2-77e850643b0e"
      },
      "execution_count": 5,
      "outputs": [
        {
          "output_type": "execute_result",
          "data": {
            "text/plain": [
              "array([0.93614072, 0.93979211, 0.93683369])"
            ]
          },
          "metadata": {},
          "execution_count": 5
        }
      ]
    },
    {
      "cell_type": "code",
      "source": [
        "# split target and features\n",
        "X_test = test_set_from_train.drop('Depression', axis=1)\n",
        "y_test = test_set_from_train['Depression'].copy()\n",
        "X_test = scaler.transform(X_test)"
      ],
      "metadata": {
        "id": "QrFHu2iQqtZn"
      },
      "execution_count": 6,
      "outputs": []
    },
    {
      "cell_type": "code",
      "source": [
        "y_pred = voting_clf.predict(X_test)\n",
        "\n",
        "from sklearn.metrics import accuracy_score\n",
        "accuracy_score(y_train, y_pred)"
      ],
      "metadata": {
        "id": "svlmP0zFq4sz",
        "colab": {
          "base_uri": "https://localhost:8080/"
        },
        "outputId": "826e284e-313d-4e44-ee25-239cf3a02544"
      },
      "execution_count": 7,
      "outputs": [
        {
          "output_type": "stream",
          "name": "stderr",
          "text": [
            "/usr/local/lib/python3.10/dist-packages/sklearn/base.py:486: UserWarning: X has feature names, but LogisticRegression was fitted without feature names\n",
            "  warnings.warn(\n",
            "/usr/local/lib/python3.10/dist-packages/sklearn/base.py:486: UserWarning: X has feature names, but RandomForestClassifier was fitted without feature names\n",
            "  warnings.warn(\n",
            "/usr/local/lib/python3.10/dist-packages/sklearn/base.py:486: UserWarning: X has feature names, but SVC was fitted without feature names\n",
            "  warnings.warn(\n",
            "/usr/local/lib/python3.10/dist-packages/sklearn/linear_model/_logistic.py:469: ConvergenceWarning: lbfgs failed to converge (status=1):\n",
            "STOP: TOTAL NO. of ITERATIONS REACHED LIMIT.\n",
            "\n",
            "Increase the number of iterations (max_iter) or scale the data as shown in:\n",
            "    https://scikit-learn.org/stable/modules/preprocessing.html\n",
            "Please also refer to the documentation for alternative solver options:\n",
            "    https://scikit-learn.org/stable/modules/linear_model.html#logistic-regression\n",
            "  n_iter_i = _check_optimize_result(\n"
          ]
        },
        {
          "output_type": "execute_result",
          "data": {
            "text/plain": [
              "array([0.93720682, 0.93646055, 0.93720682])"
            ]
          },
          "metadata": {},
          "execution_count": 7
        }
      ]
    },
    {
      "cell_type": "code",
      "source": [
        "# save final prediction\n",
        "test_set = pd.read_csv('/content/sample_data/final_test.csv')\n",
        "test_set = scaler.transform(test_set)\n",
        "y_pred = voting_clf.predict(test_set)\n",
        "original_test_set = pd.read_csv('/content/sample_data/test.csv')\n",
        "id = original_test_set['id']\n",
        "final_prediction = pd.DataFrame({'id': id, 'Depression': y_pred})\n",
        "final_prediction.to_csv('voting_clf_final_prediction.csv', index=False)"
      ],
      "metadata": {
        "id": "EHE8-E8NUYYs"
      },
      "execution_count": 10,
      "outputs": []
    }
  ]
}