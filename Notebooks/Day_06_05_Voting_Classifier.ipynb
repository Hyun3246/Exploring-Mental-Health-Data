{
  "cells": [
    {
      "cell_type": "code",
      "source": [
        "!pip install catboost"
      ],
      "metadata": {
        "colab": {
          "base_uri": "https://localhost:8080/"
        },
        "id": "dnnAWbWB3WbH",
        "outputId": "a0f2695d-0b45-4171-fcd5-15644776bd05"
      },
      "execution_count": 3,
      "outputs": [
        {
          "output_type": "stream",
          "name": "stdout",
          "text": [
            "Collecting catboost\n",
            "  Downloading catboost-1.2.7-cp310-cp310-manylinux2014_x86_64.whl.metadata (1.2 kB)\n",
            "Requirement already satisfied: graphviz in /usr/local/lib/python3.10/dist-packages (from catboost) (0.20.3)\n",
            "Requirement already satisfied: matplotlib in /usr/local/lib/python3.10/dist-packages (from catboost) (3.8.0)\n",
            "Requirement already satisfied: numpy<2.0,>=1.16.0 in /usr/local/lib/python3.10/dist-packages (from catboost) (1.26.4)\n",
            "Requirement already satisfied: pandas>=0.24 in /usr/local/lib/python3.10/dist-packages (from catboost) (2.2.2)\n",
            "Requirement already satisfied: scipy in /usr/local/lib/python3.10/dist-packages (from catboost) (1.13.1)\n",
            "Requirement already satisfied: plotly in /usr/local/lib/python3.10/dist-packages (from catboost) (5.24.1)\n",
            "Requirement already satisfied: six in /usr/local/lib/python3.10/dist-packages (from catboost) (1.16.0)\n",
            "Requirement already satisfied: python-dateutil>=2.8.2 in /usr/local/lib/python3.10/dist-packages (from pandas>=0.24->catboost) (2.8.2)\n",
            "Requirement already satisfied: pytz>=2020.1 in /usr/local/lib/python3.10/dist-packages (from pandas>=0.24->catboost) (2024.2)\n",
            "Requirement already satisfied: tzdata>=2022.7 in /usr/local/lib/python3.10/dist-packages (from pandas>=0.24->catboost) (2024.2)\n",
            "Requirement already satisfied: contourpy>=1.0.1 in /usr/local/lib/python3.10/dist-packages (from matplotlib->catboost) (1.3.1)\n",
            "Requirement already satisfied: cycler>=0.10 in /usr/local/lib/python3.10/dist-packages (from matplotlib->catboost) (0.12.1)\n",
            "Requirement already satisfied: fonttools>=4.22.0 in /usr/local/lib/python3.10/dist-packages (from matplotlib->catboost) (4.55.0)\n",
            "Requirement already satisfied: kiwisolver>=1.0.1 in /usr/local/lib/python3.10/dist-packages (from matplotlib->catboost) (1.4.7)\n",
            "Requirement already satisfied: packaging>=20.0 in /usr/local/lib/python3.10/dist-packages (from matplotlib->catboost) (24.2)\n",
            "Requirement already satisfied: pillow>=6.2.0 in /usr/local/lib/python3.10/dist-packages (from matplotlib->catboost) (11.0.0)\n",
            "Requirement already satisfied: pyparsing>=2.3.1 in /usr/local/lib/python3.10/dist-packages (from matplotlib->catboost) (3.2.0)\n",
            "Requirement already satisfied: tenacity>=6.2.0 in /usr/local/lib/python3.10/dist-packages (from plotly->catboost) (9.0.0)\n",
            "Downloading catboost-1.2.7-cp310-cp310-manylinux2014_x86_64.whl (98.7 MB)\n",
            "\u001b[2K   \u001b[90m━━━━━━━━━━━━━━━━━━━━━━━━━━━━━━━━━━━━━━━━\u001b[0m \u001b[32m98.7/98.7 MB\u001b[0m \u001b[31m9.3 MB/s\u001b[0m eta \u001b[36m0:00:00\u001b[0m\n",
            "\u001b[?25hInstalling collected packages: catboost\n",
            "Successfully installed catboost-1.2.7\n"
          ]
        }
      ]
    },
    {
      "cell_type": "code",
      "execution_count": 43,
      "metadata": {
        "id": "dqOuphIpqHKr"
      },
      "outputs": [],
      "source": [
        "import pandas as pd\n",
        "df = pd.read_csv('/content/sample_data/final_train.csv')\n",
        "\n",
        "from sklearn.model_selection import train_test_split\n",
        "\n",
        "train_set, test_set_from_train = train_test_split(df, test_size=0.2, random_state=42)\n",
        "\n",
        "# split target and features\n",
        "X_train = train_set.drop('Depression', axis=1)\n",
        "y_train = train_set['Depression'].copy()"
      ]
    },
    {
      "cell_type": "code",
      "execution_count": 44,
      "metadata": {
        "id": "QDri0VV3dA_u"
      },
      "outputs": [],
      "source": [
        "from sklearn.preprocessing import StandardScaler\n",
        "scaler = StandardScaler()\n",
        "X_train = scaler.fit_transform(X_train)"
      ]
    },
    {
      "cell_type": "code",
      "execution_count": 60,
      "metadata": {
        "id": "t9iJ8OqInk3O"
      },
      "outputs": [],
      "source": [
        "from sklearn.ensemble import GradientBoostingClassifier, VotingClassifier, RandomForestClassifier\n",
        "from sklearn.linear_model import LogisticRegression\n",
        "import xgboost as xgb\n",
        "from catboost import CatBoostClassifier as Catboost\n",
        "\n",
        "voting_clf = VotingClassifier(\n",
        "    estimators=[\n",
        "        ('lr', LogisticRegression(random_state=42)),\n",
        "        ('rf', RandomForestClassifier(n_estimators=1000, max_depth=18, n_jobs=-1, random_state=42)),\n",
        "        ('gbf', GradientBoostingClassifier(max_depth=5, n_estimators=40, random_state=42)),\n",
        "        ('xgboost', xgb.XGBClassifier(max_depth=6, n_estimators=40, random_state=42)),\n",
        "        ('catboost',Catboost(iterations=15, depth=6, learning_rate=1, random_state=42))\n",
        "    ],\n",
        "    voting='soft'\n",
        ")"
      ]
    },
    {
      "cell_type": "code",
      "execution_count": 61,
      "metadata": {
        "id": "KBndPcLZqjVT",
        "colab": {
          "base_uri": "https://localhost:8080/"
        },
        "outputId": "c578cc89-068b-496c-db10-e5d06650c1ab"
      },
      "outputs": [
        {
          "output_type": "stream",
          "name": "stdout",
          "text": [
            "0:\tlearn: 0.2014846\ttotal: 23.9ms\tremaining: 334ms\n",
            "1:\tlearn: 0.1732878\ttotal: 47.9ms\tremaining: 311ms\n",
            "2:\tlearn: 0.1676128\ttotal: 72ms\tremaining: 288ms\n",
            "3:\tlearn: 0.1622520\ttotal: 95ms\tremaining: 261ms\n",
            "4:\tlearn: 0.1587314\ttotal: 118ms\tremaining: 236ms\n",
            "5:\tlearn: 0.1564909\ttotal: 139ms\tremaining: 209ms\n",
            "6:\tlearn: 0.1550266\ttotal: 162ms\tremaining: 185ms\n",
            "7:\tlearn: 0.1540773\ttotal: 183ms\tremaining: 160ms\n",
            "8:\tlearn: 0.1532368\ttotal: 205ms\tremaining: 136ms\n",
            "9:\tlearn: 0.1525108\ttotal: 230ms\tremaining: 115ms\n",
            "10:\tlearn: 0.1515221\ttotal: 252ms\tremaining: 91.7ms\n",
            "11:\tlearn: 0.1506706\ttotal: 277ms\tremaining: 69.1ms\n",
            "12:\tlearn: 0.1500343\ttotal: 298ms\tremaining: 45.9ms\n",
            "13:\tlearn: 0.1491781\ttotal: 320ms\tremaining: 22.9ms\n",
            "14:\tlearn: 0.1485353\ttotal: 344ms\tremaining: 0us\n"
          ]
        }
      ],
      "source": [
        "voting_clf.fit(X_train, y_train)\n",
        "y_pred = voting_clf.predict(X_train)"
      ]
    },
    {
      "cell_type": "code",
      "execution_count": 62,
      "metadata": {
        "id": "w9loByEYq05w",
        "colab": {
          "base_uri": "https://localhost:8080/"
        },
        "outputId": "eaf829a9-14c8-4f0a-c882-57106f089b96"
      },
      "outputs": [
        {
          "output_type": "execute_result",
          "data": {
            "text/plain": [
              "0.9433813077469794"
            ]
          },
          "metadata": {},
          "execution_count": 62
        }
      ],
      "source": [
        "# accuracy score\n",
        "from sklearn.metrics import accuracy_score\n",
        "accuracy_score(y_train, y_pred)"
      ]
    },
    {
      "cell_type": "code",
      "execution_count": 63,
      "metadata": {
        "id": "QrFHu2iQqtZn"
      },
      "outputs": [],
      "source": [
        "# split target and features\n",
        "X_test = test_set_from_train.drop('Depression', axis=1)\n",
        "y_test = test_set_from_train['Depression'].copy()\n",
        "X_test = scaler.transform(X_test)"
      ]
    },
    {
      "cell_type": "code",
      "execution_count": 64,
      "metadata": {
        "id": "_hJ1TJMFdA_w",
        "colab": {
          "base_uri": "https://localhost:8080/"
        },
        "outputId": "f67f7257-0f62-4ae0-ea4c-d40ad3598af5"
      },
      "outputs": [
        {
          "output_type": "execute_result",
          "data": {
            "text/plain": [
              "0.9396588486140725"
            ]
          },
          "metadata": {},
          "execution_count": 64
        }
      ],
      "source": [
        "y_pred = voting_clf.predict(X_test)\n",
        "accuracy_score(y_test, y_pred)"
      ]
    },
    {
      "cell_type": "code",
      "execution_count": 65,
      "metadata": {
        "id": "a1Ir3umEdA_x"
      },
      "outputs": [],
      "source": [
        "# save final prediction\n",
        "test_set = pd.read_csv('/content/sample_data/final_test.csv')\n",
        "del test_set['Depression']\n",
        "test_set = scaler.transform(test_set)\n",
        "y_pred = voting_clf.predict(test_set)\n",
        "original_test_set = pd.read_csv('/content/sample_data/test.csv')\n",
        "id = original_test_set['id']\n",
        "final_prediction = pd.DataFrame({'id': id, 'Depression': y_pred})\n",
        "final_prediction.to_csv('final_prediction3.csv', index=False)"
      ]
    }
  ],
  "metadata": {
    "accelerator": "GPU",
    "colab": {
      "gpuType": "T4",
      "provenance": []
    },
    "kernelspec": {
      "display_name": "Python 3",
      "name": "python3"
    },
    "language_info": {
      "name": "python"
    }
  },
  "nbformat": 4,
  "nbformat_minor": 0
}